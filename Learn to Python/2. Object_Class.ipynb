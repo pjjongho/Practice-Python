{
 "cells": [
  {
   "cell_type": "code",
   "execution_count": 4,
   "metadata": {},
   "outputs": [],
   "source": [
    "# Define Book Class \n",
    "\n",
    "class Book(object):\n",
    "    author = \"\"\n",
    "    title = \"\"\n",
    "    publisher = \"\"\n",
    "    date = \"\"\n",
    "\n",
    "    def print_info(self):\n",
    "        print(\"Author:\", self.author)\n",
    "        print(\"Title:\", self.title)"
   ]
  },
  {
   "cell_type": "code",
   "execution_count": 6,
   "metadata": {},
   "outputs": [
    {
     "name": "stdout",
     "output_type": "stream",
     "text": [
      "Author: Jongho\n",
      "Title: Harry Poter\n"
     ]
    }
   ],
   "source": [
    "book = Book()\n",
    "book.author = \"Jongho\"\n",
    "book.title = \"Harry Poter\"\n",
    "book.print_info()"
   ]
  },
  {
   "cell_type": "code",
   "execution_count": 7,
   "metadata": {},
   "outputs": [],
   "source": [
    "# Define Book Class \n",
    "\n",
    "class Book(object):\n",
    "    author = \"\"\n",
    "    title = \"\"\n",
    "    publisher = \"\"\n",
    "    date = \"\"\n",
    "\n",
    "    def print_info(self):\n",
    "        print(\"Author:\", self.author)\n",
    "        print(\"Title:\", self.title)\n",
    "        print(\"Publisher:\",self.publisher)\n",
    "        print(\"Date:\", self.date)"
   ]
  },
  {
   "cell_type": "code",
   "execution_count": 8,
   "metadata": {},
   "outputs": [
    {
     "name": "stdout",
     "output_type": "stream",
     "text": [
      "Author: Jongho\n",
      "Title: Harry Poter\n",
      "Publisher: Voldmort\n",
      "Date: 2024\n"
     ]
    }
   ],
   "source": [
    "b1 = Book()\n",
    "b1.author= \"Jongho\"\n",
    "b1.title = \"Harry Poter\"\n",
    "b1.publisher = \"Voldmort\"\n",
    "b1.date = \"2024\"\n",
    "b1.print_info()"
   ]
  },
  {
   "cell_type": "code",
   "execution_count": 12,
   "metadata": {},
   "outputs": [],
   "source": [
    "# Define Book Class \n",
    "\n",
    "class Book(object):\n",
    "    author = \"\"\n",
    "    title = \"\"\n",
    "    publisher = \"\"\n",
    "    date = \"\"\n",
    "    count = 0\n",
    "\n",
    "    def print_info(self):\n",
    "        print(\"Author:\", self.author)\n",
    "        print(\"Title:\", self.title)\n",
    "        print(\"Publisher:\",self.publisher)\n",
    "        print(\"Date:\", self.date)"
   ]
  },
  {
   "cell_type": "code",
   "execution_count": 13,
   "metadata": {},
   "outputs": [
    {
     "name": "stdout",
     "output_type": "stream",
     "text": [
      "Author: Jongho\n",
      "Title: Harry Poter\n",
      "Publisher: Voldmort\n",
      "Date: 2024\n",
      "Number of Books: 1\n"
     ]
    }
   ],
   "source": [
    "b1 = Book()\n",
    "Book.count += 1\n",
    "b1.author= \"Jongho\"\n",
    "b1.title = \"Harry Poter\"\n",
    "b1.publisher = \"Voldmort\"\n",
    "b1.date = \"2024\"\n",
    "b1.print_info()\n",
    "print(\"Number of Books:\", str(Book.count))"
   ]
  },
  {
   "cell_type": "code",
   "execution_count": 14,
   "metadata": {},
   "outputs": [
    {
     "name": "stdout",
     "output_type": "stream",
     "text": [
      "Author: Dam\n",
      "Title: Rain\n",
      "Publisher: Jong\n",
      "Date: 2024\n",
      "Number of Books: 2\n"
     ]
    }
   ],
   "source": [
    "b2 = Book()\n",
    "Book.count += 1\n",
    "b2.author= \"Dam\"\n",
    "b2.title = \"Rain\"\n",
    "b2.publisher = \"Jong\"\n",
    "b2.date = \"2024\"\n",
    "b2.print_info()\n",
    "print(\"Number of Books:\", str(Book.count))"
   ]
  },
  {
   "cell_type": "markdown",
   "metadata": {},
   "source": [
    "#### **<span style=\"color:pink\"> 클래스 매직 메소드 (Class Masic Methods) </span>**\n",
    "- '_'를 2개 붙여서 매직 메소드 또는 속성에 사용가능\n",
    "- __ 을 앞에 붙이면 가시성을 위한 속성으로 활용함\n",
    "- 클래스 매직 메소드의 종류\n",
    "\n",
    "| 매직 메소드 | 설명                                                                 |\n",
    "|-------------|----------------------------------------------------------------------|\n",
    "| `__init__`  | 객체의 초기화를 위해 클래스 생성 시 호출되는 동작을 정의              |\n",
    "| `__str__`   | 클래스의 인스턴스에서 str() 호출될 때의 동작을 정의                   |\n",
    "| `__repr__`  | 클래스의 인스턴스에서 repr() 호출될 때의 동작을 정의                  |\n",
    "| `__new__`   | 객체의 인스턴스화에서 호출되는 첫 번째 메소드                        |\n",
    "| `__del__`   | 객체가 소멸될 때 호출되는 메소드                                     |\n",
    "| `__dir__`   | 클래스의 인스턴스에서 dir() 호출될 때의 동작을 정의                   |\n",
    "| `__getattr__` | 존재하지 않는 속성에 액세스하려고 시도할 때 행위를 정의              |\n",
    "| `__setattr__` | 캡슐화를 위한 방법을 정의                                           |\n",
    "| `__add__`   | 두 인스턴스의 더하기가 일어날 때 실행되는 동작 정의                   |\n",
    "| `__lt__`, `__le__`, `__gt__`, `__ge__`, `__eq__`, `__ne__` | 인스턴스 간의 `<`, `<=`, `>`, `>=`, `==`, `!=` 비교 메소드 |\n"
   ]
  },
  {
   "cell_type": "markdown",
   "metadata": {},
   "source": [
    "<details>\n",
    "    <summary> __init__() </summary>\n",
    "    <ul>\n",
    "      <li> __init__ 메소드를 이용하여 클래스의 속성들을 초기화 </li>\n",
    "    </ul>\n",
    "</details>"
   ]
  },
  {
   "cell_type": "code",
   "execution_count": 16,
   "metadata": {},
   "outputs": [],
   "source": [
    "class Book(object):\n",
    "    count = 0\n",
    "\n",
    "    def __init__(self, author, title, publisher, date):\n",
    "        self.author = author\n",
    "        self.title = title\n",
    "        self.publisher = publisher\n",
    "        self.date = date\n",
    "        Book.count += 1\n",
    "\n",
    "    def print_info(self):\n",
    "        print(\"Author:\", self.author)\n",
    "        print(\"Title:\", self.title)\n",
    "        print(\"Publisher:\",self.publisher)\n",
    "        print(\"Date:\", self.date)"
   ]
  },
  {
   "cell_type": "code",
   "execution_count": 20,
   "metadata": {},
   "outputs": [
    {
     "name": "stdout",
     "output_type": "stream",
     "text": [
      "Author: Jongho\n",
      "Title: Harry Poter\n",
      "Publisher: Voldmort\n",
      "Date: 2024\n",
      "Number of Books: 4\n"
     ]
    }
   ],
   "source": [
    "book = Book(\"Jongho\", \"Harry Poter\", \"Voldmort\", \"2024\")\n",
    "book.print_info()\n",
    "print(\"Number of Books:\", str(Book.count))"
   ]
  },
  {
   "cell_type": "markdown",
   "metadata": {},
   "source": [
    "<details>\n",
    "    <summary> __str__() </summary>\n",
    "    <ul>\n",
    "      <li> __str__ 메소드를 이용하여 클래스의 속성들을 초기화 </li>\n",
    "    </ul>\n",
    "</details>"
   ]
  },
  {
   "cell_type": "code",
   "execution_count": 23,
   "metadata": {},
   "outputs": [],
   "source": [
    "class Book(object):\n",
    "    count = 0\n",
    "\n",
    "    def __init__(self, author, title, publisher, date):\n",
    "        self.author = author\n",
    "        self.title = title\n",
    "        self.publisher = publisher\n",
    "        self.date = date\n",
    "        Book.count += 1\n",
    "\n",
    "    def __str__(self):\n",
    "        return  (\"Author:\" + self.author + \\\n",
    "                \"\\nTitle:\" + self.title + \\\n",
    "                \"\\nPublisher:\" + self.publisher + \\\n",
    "                \"\\nDate:\" + self.date)"
   ]
  },
  {
   "cell_type": "code",
   "execution_count": 25,
   "metadata": {},
   "outputs": [
    {
     "name": "stdout",
     "output_type": "stream",
     "text": [
      "Author:Jongho\n",
      "Title:Harry Poter\n",
      "Publisher:Voldmort\n",
      "Date:2024\n",
      "Number of Books: 2\n"
     ]
    }
   ],
   "source": [
    "book = Book(\"Jongho\", \"Harry Poter\", \"Voldmort\", \"2024\")\n",
    "print(book)\n",
    "print(\"Number of Books:\", str(Book.count))"
   ]
  },
  {
   "cell_type": "markdown",
   "metadata": {},
   "source": [
    "<h3><details>\n",
    "    <summary> 매직 메소드 예제 </summary></h3>\n",
    "    <ul>\n",
    "      <li> Line Class </li>\n",
    "    </ul>\n",
    "</details>"
   ]
  },
  {
   "cell_type": "code",
   "execution_count": 28,
   "metadata": {},
   "outputs": [],
   "source": [
    "class Line(object):\n",
    "    length = 0\n",
    "\n",
    "    def __init__(self, length):\n",
    "        self.length = length\n",
    "        print(self.length, \"길이의 선 생성\")\n",
    "\n",
    "    def __del__(self):\n",
    "        print(self.length, \"길이의 선 제거\")\n",
    "\n",
    "    def __repr__(self):\n",
    "        return str(self.length)\n",
    "    \n",
    "    def __add__(self, other):\n",
    "        return self.length + other.length\n",
    "    \n",
    "    def __lt__(self, other):\n",
    "        return self.length < other.length\n",
    "    \n",
    "    def __lt__(self, other):\n",
    "        return self.length <= other.length\n",
    "    \n",
    "    def __gt__(self, other):\n",
    "        return self.length > other.length\n",
    "    \n",
    "    def __ge__(self, other):\n",
    "        return self.length >= other.length\n",
    "    \n",
    "    def __eq__(self, other):\n",
    "        return self.length == other.length\n",
    "    \n",
    "    def __ne__(self, other):\n",
    "        return self.length != other.length"
   ]
  },
  {
   "cell_type": "code",
   "execution_count": 39,
   "metadata": {},
   "outputs": [
    {
     "name": "stdout",
     "output_type": "stream",
     "text": [
      "90 길이의 선 생성\n",
      "90 길이의 선 제거\n",
      "90\n",
      "90 길이의 선 생성\n",
      "70 길이의 선 제거\n",
      "90\n",
      "선의 합 : 180\n",
      "90 < 90\n"
     ]
    }
   ],
   "source": [
    "l3 = Line(90)\n",
    "print(l3)\n",
    "\n",
    "l4 = Line(90)\n",
    "print(l4)\n",
    "\n",
    "print(f'선의 합 : {l3 + l4}')\n",
    "\n",
    "if l3 < l4:\n",
    "    print(f'{l3} < {l4}')\n",
    "elif l3 <= l4:\n",
    "    print(f'{l3} <= {l4}')\n",
    "elif l3 > l4:\n",
    "    print(f'{l3} > {l4}')\n",
    "elif l3 > l4:\n",
    "    print(f'{l3} >= {l4}')\n",
    "elif l3 == l4:\n",
    "    print(f'{l3} == {l4}')\n",
    "elif l3 != l4:\n",
    "    print(f'{l3} != {l4}')\n",
    "else:\n",
    "    pass"
   ]
  },
  {
   "cell_type": "markdown",
   "metadata": {},
   "source": [
    "<h3><details>\n",
    "    <summary> 가시성성 예제 </summary></h3>\n",
    "    <ul>\n",
    "      <li> `__items` 속성은 Box 객체 외부에서 보이지 않도록 캡슐화와 정보 은닉이 가능 </li>\n",
    "      <li> 외부에서 `__items` 속성에 접근하면 속성 오류가 발생함 </li>\n",
    "    </ul>\n",
    "</details>"
   ]
  },
  {
   "cell_type": "code",
   "execution_count": 46,
   "metadata": {},
   "outputs": [],
   "source": [
    "class Box(object):\n",
    "    def __init__(self, name):\n",
    "        self.name = name\n",
    "        self.__items = [1,2,3,4,5] # 얘를 숨겨줌줌\n",
    "\n",
    "    def add_item(self, item):\n",
    "        self.__items.append(item)\n",
    "        print(f'아이템 추가')\n",
    "\n",
    "    def get_number_of_items(self):\n",
    "        return len(self.__items)"
   ]
  },
  {
   "cell_type": "code",
   "execution_count": 48,
   "metadata": {},
   "outputs": [
    {
     "name": "stdout",
     "output_type": "stream",
     "text": [
      "아이템 추가\n",
      "아이템 추가\n",
      "Box\n",
      "7\n",
      "AttritubeError가 __items가 뜨면 정상\n"
     ]
    },
    {
     "ename": "AttributeError",
     "evalue": "'Box' object has no attribute '__items'",
     "output_type": "error",
     "traceback": [
      "\u001b[1;31m---------------------------------------------------------------------------\u001b[0m",
      "\u001b[1;31mAttributeError\u001b[0m                            Traceback (most recent call last)",
      "Cell \u001b[1;32mIn[48], line 7\u001b[0m\n\u001b[0;32m      5\u001b[0m \u001b[38;5;28mprint\u001b[39m(box\u001b[38;5;241m.\u001b[39mget_number_of_items())\n\u001b[0;32m      6\u001b[0m \u001b[38;5;28mprint\u001b[39m(\u001b[38;5;124m'\u001b[39m\u001b[38;5;124mAttritubeError가 __items가 뜨면 정상\u001b[39m\u001b[38;5;124m'\u001b[39m)\n\u001b[1;32m----> 7\u001b[0m \u001b[38;5;28mprint\u001b[39m(box\u001b[38;5;241m.\u001b[39m__items)\n",
      "\u001b[1;31mAttributeError\u001b[0m: 'Box' object has no attribute '__items'"
     ]
    }
   ],
   "source": [
    "box = Box(\"Box\")\n",
    "box.add_item('Item1')\n",
    "box.add_item('Item2')\n",
    "print(box.name)\n",
    "print(box.get_number_of_items())\n",
    "print('AttritubeError가 __items가 뜨면 정상')\n",
    "print(box.__items)"
   ]
  },
  {
   "cell_type": "markdown",
   "metadata": {},
   "source": [
    "<h3><details>\n",
    "    <summary> 클래스 상속 </summary></h3>\n",
    "    <ul>\n",
    "      <li> 기존 클래스에 있는 속성과 메소드를 그대로 상속받아 새로운 클래스를 생성함. </li>\n",
    "      <li> 공통된 클래스를 부모로 두고 자식들이 상속을 받아 클래스를 생성하므로 일관성있는 프로그래밍이 가능함 </li>\n",
    "      <li> 기존 클래스에서 일부를 추가/변경한 새로운 클래스 생성으로 코드 재사용(reuse) 가능 </li>\n",
    "      <li> 클래스 상속 문법 <span style=\"color:pink\">class SubClass(SuperClass)</span> </li>\n",
    "    </ul>\n",
    "</details>"
   ]
  },
  {
   "cell_type": "code",
   "execution_count": 49,
   "metadata": {},
   "outputs": [],
   "source": [
    "class SuperClass(object):\n",
    "    pass\n",
    "\n",
    "class SubClass(SuperClass):\n",
    "    pass"
   ]
  },
  {
   "cell_type": "markdown",
   "metadata": {},
   "source": [
    "<h3><details>\n",
    "    <summary> 메소드 오버라이딩(Method Overriding) </summary></h3>\n",
    "    <ul>\n",
    "      <li> SuperClass로 부터 SubClass1와 Subclass2가 클래스 상속 </li>\n",
    "      <li> 아무 내용도 없는 추상 메소드 (Abstract Method) method()를 정의 </li>\n",
    "      <li> SubClass1의 method()는 SuperClass의 추상 메소드를 오버라이딩</li>\n",
    "    </ul>\n",
    "</details>"
   ]
  },
  {
   "cell_type": "code",
   "execution_count": 51,
   "metadata": {},
   "outputs": [],
   "source": [
    "class SuperClass(object):\n",
    "    def method(self):\n",
    "        pass\n",
    "\n",
    "class SubClass1(SuperClass):\n",
    "    def method(self):\n",
    "        print(\"Method Overriding\")\n",
    "\n",
    "class SubClass2(SuperClass):\n",
    "    pass"
   ]
  },
  {
   "cell_type": "code",
   "execution_count": 52,
   "metadata": {},
   "outputs": [
    {
     "name": "stdout",
     "output_type": "stream",
     "text": [
      "Method Overriding\n"
     ]
    }
   ],
   "source": [
    "sub1 = SubClass1()\n",
    "sub2 = SubClass2()\n",
    "\n",
    "sub1.method()\n",
    "sub2.method()"
   ]
  },
  {
   "cell_type": "markdown",
   "metadata": {},
   "source": [
    "#### Class 상속 Method Overriding 예제"
   ]
  },
  {
   "cell_type": "code",
   "execution_count": 58,
   "metadata": {},
   "outputs": [],
   "source": [
    "class Vehicle(object):\n",
    "    speed = 0\n",
    "    def up_speed(self, value):\n",
    "        self.speed += value\n",
    "\n",
    "    def down_speed(self, value):\n",
    "        self.speed -= value\n",
    "    \n",
    "    def print_speed(self):\n",
    "        print(f'Speed: {str(self.speed)}')\n",
    "\n",
    "# car class 정의\n",
    "class Car(Vehicle): # Vehicle Class 상속 받음\n",
    "    def up_speed(self, value):\n",
    "        self.speed += value\n",
    "        if self.speed >= 240:\n",
    "            self.speed = 240 # 속도가 240 이상으로 못 넘어가게 최댓값을 240으로 고정\n",
    "\n",
    "# truck class 정의\n",
    "class truck(Vehicle):\n",
    "    def up_speed(self, value):\n",
    "        self.speed += value\n",
    "        if self.speed >= 180:\n",
    "            self.speed = 180 # 속도 180을 최대로 고정"
   ]
  },
  {
   "cell_type": "code",
   "execution_count": 59,
   "metadata": {},
   "outputs": [
    {
     "name": "stdout",
     "output_type": "stream",
     "text": [
      "Speed: 240\n",
      "Speed: 180\n"
     ]
    }
   ],
   "source": [
    "car = Car()\n",
    "car.up_speed(300)\n",
    "car.print_speed()\n",
    "\n",
    "truck = truck()\n",
    "truck.up_speed(200)\n",
    "truck.print_speed()"
   ]
  }
 ],
 "metadata": {
  "kernelspec": {
   "display_name": "jjong",
   "language": "python",
   "name": "python3"
  },
  "language_info": {
   "codemirror_mode": {
    "name": "ipython",
    "version": 3
   },
   "file_extension": ".py",
   "mimetype": "text/x-python",
   "name": "python",
   "nbconvert_exporter": "python",
   "pygments_lexer": "ipython3",
   "version": "3.11.5"
  }
 },
 "nbformat": 4,
 "nbformat_minor": 2
}
