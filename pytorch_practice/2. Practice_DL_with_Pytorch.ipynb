{
 "cells": [
  {
   "cell_type": "code",
   "execution_count": 1,
   "metadata": {},
   "outputs": [],
   "source": [
    "import torch\n",
    "import numpy as np\n",
    "from torch.utils.data import Dataset, DataLoader\n",
    "import torchvision.transforms as transforms\n",
    "from torchvision import datasets"
   ]
  },
  {
   "cell_type": "code",
   "execution_count": 2,
   "metadata": {},
   "outputs": [],
   "source": [
    "mnist_transform = transforms.Compose([transforms.ToTensor(),\n",
    "                                      transforms.Normalize(mean=(0.5,), std=(1.0,))])"
   ]
  },
  {
   "cell_type": "code",
   "execution_count": 3,
   "metadata": {},
   "outputs": [],
   "source": [
    "import os"
   ]
  },
  {
   "cell_type": "code",
   "execution_count": 4,
   "metadata": {},
   "outputs": [
    {
     "data": {
      "text/plain": [
       "'c:\\\\Users\\\\jjong\\\\Desktop\\\\Practice\\\\suanlab\\\\pytorch_practice'"
      ]
     },
     "execution_count": 4,
     "metadata": {},
     "output_type": "execute_result"
    }
   ],
   "source": [
    "os.getcwd()"
   ]
  },
  {
   "cell_type": "code",
   "execution_count": 5,
   "metadata": {},
   "outputs": [],
   "source": [
    "trainset = datasets.MNIST(root='./',\n",
    "                          train=True,\n",
    "                          download=True,\n",
    "                          transform=mnist_transform)\n",
    "testset = datasets.MNIST(root='./',\n",
    "                         train=False,\n",
    "                         download=True,\n",
    "                         transform=mnist_transform)"
   ]
  },
  {
   "cell_type": "code",
   "execution_count": 6,
   "metadata": {},
   "outputs": [],
   "source": [
    "train_loader = DataLoader(trainset, batch_size = 8, shuffle=True, num_workers=2)\n",
    "test_loader = DataLoader(testset, batch_size = 8, shuffle=False, num_workers=2)"
   ]
  },
  {
   "cell_type": "code",
   "execution_count": 7,
   "metadata": {},
   "outputs": [
    {
     "data": {
      "text/plain": [
       "(torch.Size([8, 1, 28, 28]), torch.Size([8]))"
      ]
     },
     "execution_count": 7,
     "metadata": {},
     "output_type": "execute_result"
    }
   ],
   "source": [
    "dataiter = iter(train_loader)\n",
    "images, labels = next(dataiter)\n",
    "images.shape, labels.shape"
   ]
  },
  {
   "cell_type": "code",
   "execution_count": 8,
   "metadata": {},
   "outputs": [
    {
     "data": {
      "text/plain": [
       "torch.Size([28, 28])"
      ]
     },
     "execution_count": 8,
     "metadata": {},
     "output_type": "execute_result"
    }
   ],
   "source": [
    "torch_image = torch.squeeze(images[0])\n",
    "torch_image.shape"
   ]
  },
  {
   "cell_type": "code",
   "execution_count": 9,
   "metadata": {},
   "outputs": [
    {
     "data": {
      "image/png": "[encoded data removed]",
      "text/plain": [
       "<Figure size 1200x600 with 8 Axes>"
      ]
     },
     "metadata": {},
     "output_type": "display_data"
    }
   ],
   "source": [
    "import matplotlib.pyplot as plt\n",
    "\n",
    "figure = plt.figure(figsize=(12,6))\n",
    "cols, rows = 4,2\n",
    "for i in range(1, cols*rows+1):\n",
    "    sample_idx = torch.randint(len(trainset), size=(1,)).item()\n",
    "    img, label = trainset[sample_idx]\n",
    "    figure.add_subplot(rows, cols, i)\n",
    "    plt.title(label)\n",
    "    plt.axis('off')\n",
    "    plt.imshow(img.squeeze(), cmap='gray')\n",
    "plt.show()"
   ]
  },
  {
   "cell_type": "markdown",
   "metadata": {},
   "source": [
    "##### Neural Network 구성\n",
    " - layer : 신경망의 핵심 데이터 구조로 하나 이상의 텐서를 입력받아 하나 이상의 텐서를 출력\n",
    " - module : 한 개 이상의 계층이 모여서 구성\n",
    " - model : 한 개 이상의 모듈이 모여서 구성\n",
    "\n",
    "**<span style = \"color:pink\">torch.nn</span>**"
   ]
  },
  {
   "cell_type": "code",
   "execution_count": 10,
   "metadata": {},
   "outputs": [],
   "source": [
    "import torch.nn as nn"
   ]
  },
  {
   "cell_type": "code",
   "execution_count": 11,
   "metadata": {},
   "outputs": [
    {
     "name": "stdout",
     "output_type": "stream",
     "text": [
      "tensor([[ 0.3593, -0.8073, -0.3817,  ...,  0.8017, -0.3109, -0.5868],\n",
      "        [-0.9270,  0.8241, -0.4832,  ...,  0.3360,  0.7900, -0.4295],\n",
      "        [-0.5157,  1.1787, -1.7832,  ..., -0.8992, -1.1858, -1.2621],\n",
      "        ...,\n",
      "        [-0.8947,  2.1954,  0.1276,  ..., -0.6367,  0.4996,  0.6196],\n",
      "        [-0.5410,  0.6379, -0.8818,  ..., -1.1873,  0.8618, -0.8324],\n",
      "        [-1.8855,  0.1118,  0.7275,  ..., -0.1676, -1.1339, -1.0167]])\n"
     ]
    }
   ],
   "source": [
    "input = torch.randn(50000,20)\n",
    "print(input)"
   ]
  },
  {
   "cell_type": "code",
   "execution_count": 12,
   "metadata": {},
   "outputs": [
    {
     "name": "stdout",
     "output_type": "stream",
     "text": [
      "Linear(in_features=20, out_features=30, bias=True)\n",
      "tensor([[ 0.2600, -0.2910,  0.6639,  ...,  0.1203, -0.1921,  0.4341],\n",
      "        [ 0.1588,  0.2367, -0.5012,  ..., -0.0647,  0.5716,  0.2016],\n",
      "        [ 0.3733,  0.5920,  0.5140,  ..., -0.4593,  0.4445, -0.7122],\n",
      "        ...,\n",
      "        [ 0.0335,  0.8967, -0.5316,  ...,  0.3204, -0.6592, -0.5390],\n",
      "        [ 0.4403,  0.8754, -1.0830,  ...,  1.8712,  0.2362, -1.4874],\n",
      "        [-0.4371,  0.4636,  0.0875,  ...,  0.2579,  0.1467,  0.2255]],\n",
      "       grad_fn=<AddmmBackward0>)\n",
      "torch.Size([50000, 30])\n"
     ]
    }
   ],
   "source": [
    "m = nn.Linear(20,30)\n",
    "print(m)\n",
    "\n",
    "output = m(input)\n",
    "print(output)\n",
    "print(output.size())"
   ]
  },
  {
   "cell_type": "code",
   "execution_count": 13,
   "metadata": {},
   "outputs": [
    {
     "name": "stdout",
     "output_type": "stream",
     "text": [
      "Conv2d(16, 33, kernel_size=(3, 5), stride=(2, 1), padding=(4, 2), dilation=(3, 1))\n"
     ]
    }
   ],
   "source": [
    "## nn.Conv2d Layers\n",
    "\n",
    "input = torch.randn(20, 16, 50, 100)\n",
    "\n",
    "m = nn.Conv2d(16,33, 3, stride=2)\n",
    "m = nn.Conv2d(16, 33, (3,5), stride=(2,1), padding=(4,2))\n",
    "m = nn.Conv2d(16, 33, (3,5), stride=(2,1), padding=(4,2), dilation=(3,1))\n",
    "print(m)"
   ]
  },
  {
   "cell_type": "code",
   "execution_count": 14,
   "metadata": {},
   "outputs": [
    {
     "name": "stdout",
     "output_type": "stream",
     "text": [
      "tensor([[[[ 1.6513e-01,  3.8955e-02,  5.9944e-01,  ..., -1.9573e-01,\n",
      "           -1.1714e-02, -2.5454e-01],\n",
      "          [-6.8054e-01,  4.5450e-03, -1.2131e-01,  ..., -4.8449e-01,\n",
      "           -2.9748e-01,  7.2668e-01],\n",
      "          [-4.1515e-01, -2.4645e-01, -3.6262e-01,  ...,  6.3243e-01,\n",
      "            5.4824e-01,  3.3075e-01],\n",
      "          ...,\n",
      "          [ 7.3260e-01, -8.7404e-01,  1.0379e+00,  ...,  1.2996e+00,\n",
      "           -3.1052e-01,  8.8912e-01],\n",
      "          [-1.9947e-01, -1.5622e-01, -1.6611e-01,  ..., -8.5170e-01,\n",
      "           -3.4054e-01, -2.3964e-01],\n",
      "          [ 1.6349e-01, -2.8833e-01,  4.8485e-01,  ...,  2.5088e-02,\n",
      "           -1.1735e-01,  4.2973e-01]],\n",
      "\n",
      "         [[-3.0051e-01, -4.1653e-02, -2.4867e-01,  ..., -6.5464e-01,\n",
      "           -6.7561e-01,  1.3671e-01],\n",
      "          [ 2.2811e-01, -5.4830e-03, -8.5000e-01,  ...,  2.2500e-01,\n",
      "            4.5053e-01, -6.1327e-01],\n",
      "          [-3.2862e-01, -1.6146e-01, -8.3838e-01,  ...,  8.6583e-01,\n",
      "            4.5150e-01,  3.9855e-01],\n",
      "          ...,\n",
      "          [ 5.8246e-01,  6.5799e-01,  9.1787e-02,  ...,  1.4094e-01,\n",
      "            4.8134e-01, -1.5620e-01],\n",
      "          [ 7.4604e-02,  7.8468e-02, -8.2103e-01,  ...,  2.7226e-01,\n",
      "           -1.8111e-01, -3.6848e-02],\n",
      "          [ 8.5385e-02, -6.2848e-01, -6.0298e-01,  ..., -6.0477e-03,\n",
      "            5.8500e-02, -3.1423e-02]],\n",
      "\n",
      "         [[ 4.3191e-01, -3.9624e-01, -6.2700e-01,  ..., -1.2279e-01,\n",
      "            1.6766e-01,  2.5637e-02],\n",
      "          [ 2.3641e-01, -1.1809e-01, -8.8705e-01,  ...,  1.0855e-01,\n",
      "           -1.0421e-02, -1.7521e-02],\n",
      "          [ 7.2264e-02, -2.8253e-01,  4.1964e-01,  ...,  5.5700e-01,\n",
      "           -1.7700e-01,  6.3645e-01],\n",
      "          ...,\n",
      "          [ 6.1495e-01, -7.4592e-02,  7.3312e-02,  ..., -1.1714e-01,\n",
      "            1.6330e-01, -4.1689e-01],\n",
      "          [-3.6360e-01, -2.8853e-01, -1.8846e-01,  ..., -5.4312e-01,\n",
      "           -4.8604e-01,  3.5208e-01],\n",
      "          [ 3.3948e-01,  1.5620e-01,  1.2759e-01,  ...,  3.7248e-01,\n",
      "            6.5987e-01, -4.6291e-02]],\n",
      "\n",
      "         ...,\n",
      "\n",
      "         [[ 2.8917e-01,  1.0128e-01,  4.1462e-01,  ...,  2.1518e-01,\n",
      "            1.8146e-01, -3.9807e-02],\n",
      "          [ 3.3570e-01, -1.8009e-01, -2.9042e-01,  ...,  5.0513e-01,\n",
      "           -5.7422e-01,  8.4081e-02],\n",
      "          [-1.5773e-01,  3.6916e-01,  5.0384e-01,  ..., -5.0852e-01,\n",
      "           -7.9851e-02, -5.9511e-01],\n",
      "          ...,\n",
      "          [-1.7916e-01, -2.2900e-01, -4.3642e-01,  ...,  4.1079e-01,\n",
      "            6.7884e-02, -3.3538e-01],\n",
      "          [-1.2375e-01,  3.1138e-01,  6.5642e-01,  ..., -2.2110e-01,\n",
      "            4.9094e-01,  6.8393e-02],\n",
      "          [ 6.0865e-02,  9.4195e-02, -8.4274e-03,  ...,  6.4855e-01,\n",
      "           -9.6747e-03, -7.9525e-02]],\n",
      "\n",
      "         [[ 3.5513e-01, -5.4991e-01,  1.1029e-01,  ..., -1.2799e-01,\n",
      "            2.0560e-01,  5.3725e-01],\n",
      "          [-2.3974e-01, -1.0116e+00, -6.4817e-01,  ...,  4.1576e-01,\n",
      "            1.8313e-01,  1.3454e-01],\n",
      "          [-5.4512e-01, -1.1933e+00, -5.3277e-01,  ..., -3.2338e-01,\n",
      "           -5.7632e-01,  5.1053e-01],\n",
      "          ...,\n",
      "          [ 4.3470e-01, -8.9249e-01,  7.7873e-01,  ...,  1.6386e-01,\n",
      "            5.9018e-01,  1.6095e-01],\n",
      "          [ 3.1871e-01, -1.5607e-01,  2.1514e-01,  ...,  4.6185e-01,\n",
      "           -1.3613e-01, -2.0376e-01],\n",
      "          [-2.2245e-01,  4.9228e-01, -3.9668e-03,  ...,  2.8464e-01,\n",
      "            6.2253e-01,  4.9940e-01]],\n",
      "\n",
      "         [[-2.4788e-01, -2.0433e-01, -5.0576e-01,  ...,  3.9941e-01,\n",
      "            3.4755e-01,  2.2451e-02],\n",
      "          [ 4.9475e-02,  4.7140e-01,  5.0635e-01,  ...,  2.2773e-01,\n",
      "           -2.6117e-01, -1.4569e-01],\n",
      "          [ 2.6323e-01,  7.6323e-01, -4.9551e-01,  ...,  1.2564e-01,\n",
      "           -6.6309e-01, -2.0579e-01],\n",
      "          ...,\n",
      "          [ 1.4455e-01, -3.5019e-01,  2.8682e-01,  ..., -2.3208e-02,\n",
      "           -6.2661e-02, -2.3411e-01],\n",
      "          [-2.8222e-01,  9.2359e-01,  6.2877e-02,  ..., -2.5604e-01,\n",
      "            3.2781e-01,  3.2721e-01],\n",
      "          [-1.0808e-01, -2.2490e-01,  1.0565e-01,  ..., -4.9965e-02,\n",
      "            2.9490e-02,  5.0984e-01]]],\n",
      "\n",
      "\n",
      "        [[[ 1.7808e-02, -4.9922e-03, -1.0063e-01,  ...,  1.5273e-01,\n",
      "           -3.0323e-01, -8.8446e-02],\n",
      "          [-1.3899e-01,  2.6311e-01,  6.4180e-01,  ...,  6.4933e-01,\n",
      "           -7.0503e-01, -1.1606e-01],\n",
      "          [-7.1953e-02, -1.7106e-01, -3.5380e-01,  ..., -1.2508e-01,\n",
      "           -7.4917e-02,  1.7786e-01],\n",
      "          ...,\n",
      "          [-5.8996e-01,  8.4000e-01, -1.4137e+00,  ..., -7.1236e-02,\n",
      "           -9.1223e-01, -2.4097e-01],\n",
      "          [-5.2813e-01, -4.5231e-01,  3.3535e-01,  ..., -6.8619e-01,\n",
      "           -1.1693e+00,  2.7416e-01],\n",
      "          [-1.7387e-01, -7.2480e-02,  2.3797e-01,  ..., -5.3145e-02,\n",
      "           -1.6806e+00,  1.5682e-01]],\n",
      "\n",
      "         [[ 5.0089e-02, -1.8246e-01, -1.2046e-01,  ...,  7.8592e-01,\n",
      "            2.9849e-02, -2.5131e-02],\n",
      "          [ 8.3187e-02, -1.7796e-01,  4.5628e-01,  ...,  1.0731e+00,\n",
      "            9.5201e-01, -3.9720e-01],\n",
      "          [ 3.2158e-01, -2.5917e-01, -1.3025e-01,  ..., -1.0559e+00,\n",
      "           -6.1486e-01,  3.9969e-01],\n",
      "          ...,\n",
      "          [ 2.3772e-02,  2.2570e-01,  9.7326e-01,  ...,  1.4030e-01,\n",
      "            9.5634e-01,  4.8857e-01],\n",
      "          [-3.0410e-01, -1.7977e-01, -7.4024e-01,  ..., -3.6320e-01,\n",
      "            5.5386e-01,  3.4216e-01],\n",
      "          [-2.7995e-01,  2.7028e-01,  2.3645e-01,  ...,  3.1418e-01,\n",
      "           -2.0965e-01, -3.5679e-02]],\n",
      "\n",
      "         [[-3.6400e-03,  2.9732e-01,  6.6160e-01,  ..., -2.8108e-01,\n",
      "           -2.8123e-01, -4.2112e-01],\n",
      "          [-1.1466e+00, -2.7718e-01,  4.3955e-01,  ..., -6.1056e-01,\n",
      "            2.6927e-01,  3.2562e-02],\n",
      "          [-4.7868e-02, -1.1767e-01,  6.7056e-01,  ...,  4.2273e-01,\n",
      "            4.6948e-02, -4.5721e-01],\n",
      "          ...,\n",
      "          [ 3.0410e-01,  4.6935e-01,  3.8862e-01,  ..., -1.3568e-01,\n",
      "           -2.2845e-01, -3.5063e-01],\n",
      "          [-5.0064e-01, -2.1418e-01, -6.8268e-01,  ...,  2.7451e-01,\n",
      "           -2.5548e-01, -5.1149e-01],\n",
      "          [-2.6160e-03,  1.4334e-02,  5.3657e-01,  ..., -7.1495e-01,\n",
      "           -4.2782e-04, -7.5392e-01]],\n",
      "\n",
      "         ...,\n",
      "\n",
      "         [[ 6.4411e-03, -2.8051e-01,  8.2043e-02,  ...,  5.1440e-02,\n",
      "           -1.5454e-01,  3.7301e-01],\n",
      "          [-5.5190e-01,  3.1569e-01,  1.2036e+00,  ..., -2.3736e-01,\n",
      "           -4.8714e-01, -3.6545e-01],\n",
      "          [-4.2523e-01,  6.7922e-01,  1.1405e+00,  ...,  1.0744e-01,\n",
      "            5.4907e-01,  1.0437e-01],\n",
      "          ...,\n",
      "          [ 9.0730e-01,  9.7680e-01, -1.4516e-02,  ...,  6.3663e-01,\n",
      "           -4.0240e-01, -7.1154e-02],\n",
      "          [ 3.5336e-01,  2.1755e-03,  8.3571e-01,  ..., -1.5091e-01,\n",
      "           -6.0594e-04, -2.6452e-01],\n",
      "          [ 4.2266e-01, -1.9189e-02,  8.3739e-01,  ..., -7.1737e-01,\n",
      "           -1.2964e-01,  5.2445e-01]],\n",
      "\n",
      "         [[-4.7566e-01,  2.4498e-01,  1.2867e-01,  ..., -8.7878e-02,\n",
      "           -2.4745e-01,  2.5938e-02],\n",
      "          [ 1.5687e-01,  5.4663e-02, -2.7930e-01,  ...,  2.1617e-01,\n",
      "           -6.0776e-01, -5.5632e-01],\n",
      "          [ 1.1205e-01,  2.9439e-01,  7.7341e-01,  ..., -5.5389e-01,\n",
      "            2.4465e-01, -7.8289e-02],\n",
      "          ...,\n",
      "          [ 5.3281e-01,  1.9811e-01,  5.0181e-01,  ...,  2.2474e-01,\n",
      "           -1.1287e+00, -5.7641e-01],\n",
      "          [-2.5323e-01,  5.0061e-01, -9.0746e-01,  ..., -2.6426e-01,\n",
      "           -2.5689e-01,  1.2785e-01],\n",
      "          [ 1.8009e-01, -1.5207e-01,  6.7003e-02,  ..., -8.5890e-02,\n",
      "           -9.0342e-01, -9.6647e-01]],\n",
      "\n",
      "         [[ 3.3052e-01, -4.5621e-02, -1.6395e-01,  ..., -3.5232e-01,\n",
      "           -3.3808e-01, -2.5786e-01],\n",
      "          [-7.8072e-02, -1.8813e-01, -1.0811e-01,  ..., -2.6553e-01,\n",
      "           -1.4945e-01, -4.1253e-01],\n",
      "          [-7.0157e-01, -6.3184e-01, -3.3994e-02,  ...,  3.2252e-01,\n",
      "            1.8826e-02, -1.1236e+00],\n",
      "          ...,\n",
      "          [ 3.1022e-01, -4.1397e-01,  3.3282e-01,  ..., -1.5922e-01,\n",
      "            1.6018e+00, -9.0442e-01],\n",
      "          [-1.1600e-01,  8.4492e-01, -1.0487e-01,  ..., -6.7356e-01,\n",
      "            1.1301e-01, -2.0224e-01],\n",
      "          [ 3.1464e-01, -3.9851e-01,  1.9452e-01,  ..., -2.4833e-01,\n",
      "           -9.3822e-02,  3.7013e-02]]],\n",
      "\n",
      "\n",
      "        [[[-2.5610e-01,  2.1840e-02,  3.7980e-01,  ..., -9.3238e-02,\n",
      "            3.9028e-02,  1.2655e-02],\n",
      "          [ 3.7740e-01, -4.0922e-01,  1.2670e-01,  ..., -7.4309e-01,\n",
      "            2.5796e-02, -3.2753e-03],\n",
      "          [ 1.1402e+00, -4.2066e-01, -9.7423e-01,  ...,  1.8072e-01,\n",
      "           -3.2891e-01, -1.4363e-01],\n",
      "          ...,\n",
      "          [-4.1212e-01, -9.1473e-02, -7.4131e-01,  ...,  3.8404e-01,\n",
      "           -4.4348e-01,  2.3340e-01],\n",
      "          [ 4.4503e-04, -2.6343e-01,  1.8825e-01,  ...,  3.8638e-01,\n",
      "            2.9764e-01,  8.5503e-02],\n",
      "          [-6.6954e-01,  2.4090e-01, -3.2483e-01,  ...,  5.0607e-02,\n",
      "            6.3301e-01, -4.4902e-01]],\n",
      "\n",
      "         [[ 1.9828e-01,  2.1579e-01, -1.5211e-03,  ...,  2.4264e-01,\n",
      "           -3.0115e-01,  1.3956e-01],\n",
      "          [ 9.5424e-03, -3.4216e-02, -1.3888e-01,  ..., -2.8254e-01,\n",
      "           -6.6002e-01,  6.6967e-02],\n",
      "          [ 2.6603e-01, -3.5400e-01,  9.6201e-01,  ..., -9.6552e-01,\n",
      "           -1.8448e-01,  4.3115e-01],\n",
      "          ...,\n",
      "          [ 1.6040e-01, -6.6501e-01, -9.8951e-01,  ...,  1.8399e-01,\n",
      "           -2.4977e-01,  1.7741e-01],\n",
      "          [ 5.3225e-01, -2.6023e-01, -5.8433e-01,  ..., -1.6819e-01,\n",
      "           -4.0360e-01,  9.5088e-01],\n",
      "          [ 1.3756e-01, -5.6192e-02,  3.7310e-01,  ...,  3.5701e-01,\n",
      "            1.6041e-01, -4.7016e-01]],\n",
      "\n",
      "         [[ 1.8458e-01, -4.1784e-01,  3.9243e-02,  ...,  4.3522e-03,\n",
      "           -1.7971e-01, -5.6105e-01],\n",
      "          [-9.3742e-02, -3.4180e-01,  1.3297e-01,  ..., -1.3248e-01,\n",
      "            4.8440e-01,  3.0418e-01],\n",
      "          [-2.9133e-01, -4.7529e-01,  9.8511e-01,  ..., -6.0506e-01,\n",
      "            3.3494e-01, -3.7301e-01],\n",
      "          ...,\n",
      "          [ 1.7050e-01,  1.6692e-01,  1.9064e-01,  ..., -3.0998e-01,\n",
      "            1.1218e+00,  1.4649e-02],\n",
      "          [ 1.9796e-01, -3.5604e-01, -1.2100e-01,  ...,  4.2811e-01,\n",
      "            5.2278e-01,  9.8531e-02],\n",
      "          [ 4.9249e-01,  2.9846e-01, -4.4043e-01,  ..., -1.1522e-01,\n",
      "           -1.0117e-01, -2.4550e-01]],\n",
      "\n",
      "         ...,\n",
      "\n",
      "         [[ 5.3682e-01,  3.0335e-01, -5.6245e-01,  ...,  1.9138e-01,\n",
      "           -1.0817e-01,  3.0641e-01],\n",
      "          [-2.7165e-02,  1.9135e-01,  3.2468e-01,  ..., -8.1231e-01,\n",
      "            8.4235e-01,  4.5084e-01],\n",
      "          [-5.5110e-01,  1.4744e-01,  1.1268e-02,  ...,  1.0856e+00,\n",
      "            1.8545e-02, -2.0719e-01],\n",
      "          ...,\n",
      "          [ 5.4058e-01,  6.4624e-02, -1.9141e-01,  ...,  5.1160e-01,\n",
      "           -2.6655e-01, -2.9668e-02],\n",
      "          [ 2.3113e-02, -7.1404e-01, -1.1339e+00,  ..., -2.8999e-02,\n",
      "           -9.6103e-02, -2.9032e-01],\n",
      "          [-1.9553e-01, -5.6207e-01,  3.7536e-01,  ...,  1.6203e-01,\n",
      "           -6.0450e-02,  1.0393e+00]],\n",
      "\n",
      "         [[-3.2784e-01,  3.2411e-01,  3.3515e-01,  ..., -5.0579e-01,\n",
      "           -2.2739e-01, -2.3231e-01],\n",
      "          [-2.9833e-01,  2.3064e-01,  6.5597e-01,  ..., -5.3696e-01,\n",
      "           -3.3735e-01, -6.3259e-01],\n",
      "          [-2.6480e-01,  4.5498e-01, -2.9145e-03,  ..., -5.8455e-01,\n",
      "           -7.7482e-01, -1.6665e-03],\n",
      "          ...,\n",
      "          [-1.6798e-01, -6.5288e-01,  1.3963e+00,  ..., -4.1300e-01,\n",
      "           -3.9972e-01, -1.7654e-01],\n",
      "          [-2.9942e-01,  3.0835e-01, -1.0509e-01,  ..., -4.4010e-01,\n",
      "            5.2146e-02,  1.5450e-01],\n",
      "          [-1.5609e-02, -2.8154e-01, -4.1610e-01,  ..., -1.6805e-01,\n",
      "           -3.7533e-01, -4.7212e-02]],\n",
      "\n",
      "         [[ 3.2509e-03, -2.9486e-01, -3.9627e-01,  ...,  6.0767e-02,\n",
      "            3.3874e-01, -4.2170e-01],\n",
      "          [-9.9681e-01,  4.9659e-01,  1.1035e-01,  ..., -1.0738e+00,\n",
      "            3.7515e-01,  4.9415e-01],\n",
      "          [-4.6172e-01, -2.4067e-01,  3.0628e-01,  ..., -1.1893e-01,\n",
      "           -2.2484e-01,  4.6088e-01],\n",
      "          ...,\n",
      "          [-5.1906e-01,  3.6632e-01, -4.9489e-01,  ..., -1.6254e-01,\n",
      "           -1.3671e-01, -3.0172e-01],\n",
      "          [-3.1483e-01, -3.0133e-01, -6.9746e-01,  ..., -2.9413e-01,\n",
      "           -9.6531e-01, -7.4503e-02],\n",
      "          [-9.4988e-02, -6.8525e-01, -2.4477e-01,  ..., -1.4339e-01,\n",
      "           -7.0198e-02, -6.1862e-01]]],\n",
      "\n",
      "\n",
      "        ...,\n",
      "\n",
      "\n",
      "        [[[ 2.2078e-01, -1.5586e-01, -4.4512e-01,  ..., -1.0459e-01,\n",
      "           -5.4180e-02, -9.1146e-02],\n",
      "          [-3.6805e-01, -1.6205e-02, -6.3969e-01,  ..., -9.7551e-01,\n",
      "           -5.0619e-02, -2.7755e-01],\n",
      "          [ 2.5110e-01,  2.8326e-02, -1.5071e+00,  ..., -2.9207e-01,\n",
      "           -6.1124e-02, -2.9924e-01],\n",
      "          ...,\n",
      "          [-6.1778e-01,  1.2148e-01, -6.6423e-01,  ..., -5.2524e-01,\n",
      "           -3.5834e-02, -6.7225e-01],\n",
      "          [-4.8497e-02,  4.1800e-01,  5.6990e-01,  ..., -2.7144e-01,\n",
      "            2.6537e-01,  2.6542e-01],\n",
      "          [-4.9603e-02, -1.3448e-01,  1.2427e-01,  ..., -5.3149e-01,\n",
      "            1.2163e-01, -2.3942e-02]],\n",
      "\n",
      "         [[ 2.7373e-01,  1.6019e-01, -5.6681e-02,  ..., -4.5748e-01,\n",
      "            3.2885e-01, -1.6512e-01],\n",
      "          [-3.0680e-01, -2.6863e-01, -3.2890e-01,  ..., -3.9826e-01,\n",
      "           -7.7701e-02, -2.5207e-02],\n",
      "          [-1.1397e-01, -7.6502e-01, -5.7989e-01,  ...,  7.0541e-01,\n",
      "            7.5199e-01, -1.8415e-01],\n",
      "          ...,\n",
      "          [ 1.8356e-01,  4.3712e-01,  2.2630e-01,  ...,  6.4317e-01,\n",
      "           -5.5606e-01, -5.6105e-01],\n",
      "          [ 3.8640e-01,  2.9742e-01, -1.9304e-01,  ..., -7.3778e-02,\n",
      "            3.2709e-01,  7.9885e-01],\n",
      "          [-9.5648e-01,  3.1151e-01,  3.0155e-02,  ...,  2.1822e-01,\n",
      "            5.1035e-01, -3.4572e-01]],\n",
      "\n",
      "         [[-5.1575e-02, -1.2435e-01, -2.7440e-01,  ...,  3.7973e-01,\n",
      "            2.1251e-02, -8.6145e-03],\n",
      "          [ 3.1304e-03,  2.7635e-01, -2.2486e-01,  ...,  8.1030e-01,\n",
      "            2.0376e-01,  2.2717e-02],\n",
      "          [ 3.0306e-02, -3.1471e-01, -3.3933e-01,  ...,  3.9885e-02,\n",
      "            2.7558e-01,  4.6646e-01],\n",
      "          ...,\n",
      "          [-8.0313e-02, -5.5452e-01,  4.2029e-01,  ..., -2.6380e-02,\n",
      "            6.8904e-01,  3.5034e-01],\n",
      "          [-3.9233e-01,  3.5311e-01, -7.4769e-01,  ...,  7.1962e-01,\n",
      "           -2.8923e-01, -2.2042e-01],\n",
      "          [ 3.1352e-01,  2.7242e-01, -9.5525e-01,  ..., -2.8678e-01,\n",
      "            9.1389e-01, -7.5988e-01]],\n",
      "\n",
      "         ...,\n",
      "\n",
      "         [[-3.7629e-01,  6.2441e-01, -4.0364e-03,  ..., -1.9591e-01,\n",
      "            2.7008e-03,  1.5420e-01],\n",
      "          [-8.8280e-01, -4.5884e-01, -1.0935e+00,  ..., -3.6690e-01,\n",
      "           -4.1282e-01, -1.2993e-01],\n",
      "          [-1.5767e-01,  2.9882e-02,  4.3002e-01,  ...,  1.5666e-02,\n",
      "            4.7335e-01,  2.8390e-01],\n",
      "          ...,\n",
      "          [-2.9824e-01, -6.2613e-01, -5.2803e-01,  ...,  2.7610e-01,\n",
      "            3.8388e-01,  2.5900e-01],\n",
      "          [-3.9418e-01, -2.6279e-01, -2.5236e-01,  ..., -4.4970e-01,\n",
      "           -7.0565e-01,  1.8468e-01],\n",
      "          [ 4.6247e-01,  9.0413e-02, -1.3298e-02,  ...,  3.3156e-01,\n",
      "           -4.8925e-01,  1.6343e-02]],\n",
      "\n",
      "         [[ 3.2874e-02, -5.6007e-01, -4.0215e-03,  ..., -8.8492e-01,\n",
      "           -4.4198e-01, -4.6044e-01],\n",
      "          [ 3.1462e-01, -3.8085e-01, -4.6379e-01,  ..., -4.1624e-01,\n",
      "           -5.5218e-02,  5.6937e-01],\n",
      "          [ 5.4311e-01,  1.3617e-01, -1.6945e-01,  ..., -3.3367e-01,\n",
      "            2.6041e-02,  1.8548e-01],\n",
      "          ...,\n",
      "          [ 1.2822e-01, -4.8007e-01,  4.0000e-01,  ...,  1.7709e-01,\n",
      "            2.2687e-01, -2.4646e-02],\n",
      "          [ 2.1604e-01, -5.5172e-01, -3.7034e-01,  ..., -5.2016e-01,\n",
      "           -1.8148e-01, -5.8573e-01],\n",
      "          [-1.0385e-01, -2.6822e-01, -1.1003e-01,  ...,  1.0214e+00,\n",
      "            3.3608e-01, -5.7830e-01]],\n",
      "\n",
      "         [[ 1.8579e-02,  6.2959e-03,  2.9203e-01,  ...,  7.3901e-01,\n",
      "           -1.3394e-01, -3.0241e-01],\n",
      "          [-1.8168e-01, -4.9366e-01,  3.4321e-01,  ...,  7.8391e-01,\n",
      "           -1.7925e-02,  1.0035e-01],\n",
      "          [ 2.4879e-01, -8.7217e-02,  9.7004e-01,  ...,  8.2160e-01,\n",
      "           -3.3255e-01, -7.3761e-01],\n",
      "          ...,\n",
      "          [ 1.6882e-02,  2.6689e-01,  1.6258e-01,  ..., -1.6895e-01,\n",
      "            5.1405e-01, -6.9816e-02],\n",
      "          [ 7.4719e-02,  7.4007e-03, -7.0109e-03,  ...,  9.0829e-02,\n",
      "           -2.3106e-02, -1.4320e-01],\n",
      "          [ 6.0055e-02, -4.4277e-02, -2.1211e-01,  ...,  4.3091e-01,\n",
      "           -3.5562e-01,  1.4241e-02]]],\n",
      "\n",
      "\n",
      "        [[[-3.0404e-01, -1.1170e-01, -3.0122e-02,  ...,  2.4533e-01,\n",
      "            1.6060e-01, -3.9648e-01],\n",
      "          [ 3.3809e-02, -3.1282e-01,  4.1927e-01,  ...,  6.2647e-01,\n",
      "           -1.6613e-01,  1.1555e-01],\n",
      "          [ 1.9906e-02, -5.7753e-01,  2.0884e-01,  ..., -2.2396e-01,\n",
      "            8.6746e-01,  1.1748e-02],\n",
      "          ...,\n",
      "          [-2.1362e-02,  6.8095e-04,  4.4037e-01,  ..., -1.2727e-01,\n",
      "           -8.8829e-01, -6.5344e-01],\n",
      "          [-8.9583e-02, -1.0908e-02,  7.8304e-02,  ..., -1.6507e+00,\n",
      "            1.6183e-01, -1.1542e-01],\n",
      "          [-2.4142e-01, -2.0884e-01, -1.0576e+00,  ...,  9.8119e-01,\n",
      "           -7.6008e-01,  6.6669e-04]],\n",
      "\n",
      "         [[ 3.0654e-01,  2.4481e-01,  2.3852e-01,  ...,  2.1661e-01,\n",
      "            2.1361e-01, -2.3694e-02],\n",
      "          [-1.0504e-01,  5.5994e-01, -7.5347e-01,  ...,  5.1195e-02,\n",
      "            5.9785e-01, -2.6054e-01],\n",
      "          [ 2.9665e-01,  4.9506e-01, -6.9379e-01,  ..., -6.3408e-01,\n",
      "            7.8692e-01,  2.1603e-01],\n",
      "          ...,\n",
      "          [ 5.2606e-01, -2.2730e-01, -5.4509e-01,  ...,  2.1123e-01,\n",
      "           -2.9717e-01, -1.6131e-01],\n",
      "          [-7.8127e-02,  3.2884e-01, -3.7568e-01,  ..., -6.6927e-01,\n",
      "            1.9337e-01, -1.6303e-01],\n",
      "          [ 1.7391e-01, -5.5916e-01, -8.2016e-01,  ...,  4.2396e-01,\n",
      "            1.1814e-01, -1.2865e-01]],\n",
      "\n",
      "         [[-1.3608e-01,  2.9335e-02, -2.4918e-01,  ..., -4.2663e-02,\n",
      "           -9.6554e-02,  2.8999e-01],\n",
      "          [ 1.4727e-01, -2.2715e-02, -6.2173e-01,  ...,  7.1992e-01,\n",
      "           -7.9575e-01, -2.3581e-01],\n",
      "          [-2.6863e-01,  4.4993e-02,  5.1861e-02,  ...,  5.8514e-01,\n",
      "           -6.0346e-01, -8.2673e-01],\n",
      "          ...,\n",
      "          [ 4.2287e-01, -4.3405e-01,  7.7613e-01,  ...,  2.6111e-01,\n",
      "           -2.6668e-01, -5.5442e-02],\n",
      "          [-9.1000e-02, -1.4393e-01,  5.0831e-01,  ...,  3.1238e-01,\n",
      "            5.6113e-01, -3.5107e-01],\n",
      "          [ 1.0723e-02, -3.1068e-01, -6.8027e-01,  ..., -1.9105e-01,\n",
      "            1.5376e-01,  2.0846e-01]],\n",
      "\n",
      "         ...,\n",
      "\n",
      "         [[-1.5613e-01,  6.3438e-02,  6.2172e-02,  ..., -5.4978e-02,\n",
      "            5.9807e-01, -1.2024e-01],\n",
      "          [ 4.9573e-02, -1.7810e-01,  4.9874e-01,  ..., -4.5618e-01,\n",
      "            9.7008e-02,  1.7074e-01],\n",
      "          [ 1.7605e-01,  1.3323e+00, -4.6224e-01,  ...,  3.4507e-01,\n",
      "           -3.3239e-02,  5.1023e-01],\n",
      "          ...,\n",
      "          [ 2.3305e-01,  2.1502e-01,  4.4543e-03,  ...,  2.0648e-01,\n",
      "           -4.0112e-01,  7.4770e-02],\n",
      "          [-4.0871e-01, -1.6535e-01,  8.6818e-02,  ..., -1.5497e-01,\n",
      "            4.5700e-01, -3.8295e-02],\n",
      "          [ 6.9671e-02,  4.7253e-01,  3.6827e-01,  ..., -1.1168e+00,\n",
      "            8.1043e-02, -3.1239e-01]],\n",
      "\n",
      "         [[-2.7213e-01, -7.3739e-01, -5.6483e-01,  ..., -2.1387e-01,\n",
      "            5.3421e-01,  2.0164e-01],\n",
      "          [-5.8120e-01, -2.2835e-01, -3.9263e-01,  ..., -1.5608e-01,\n",
      "            8.5571e-03,  1.0932e+00],\n",
      "          [-1.8607e-02, -8.9156e-02, -1.4649e-01,  ..., -2.3457e-01,\n",
      "           -8.1713e-01, -1.4754e-01],\n",
      "          ...,\n",
      "          [-3.6638e-01,  1.8657e-01, -6.0867e-01,  ...,  6.9370e-01,\n",
      "           -6.1495e-01, -2.7188e-01],\n",
      "          [-2.5314e-01, -7.8180e-02, -3.2333e-01,  ..., -7.3319e-02,\n",
      "           -1.0116e-01,  1.6555e-01],\n",
      "          [-1.0174e-02, -1.9463e-01, -4.8178e-01,  ...,  1.2868e-01,\n",
      "            3.2564e-02, -3.3009e-02]],\n",
      "\n",
      "         [[-6.8156e-02,  1.1407e-01,  1.8162e-02,  ..., -1.5355e-01,\n",
      "           -2.3297e-01,  1.1418e-01],\n",
      "          [-3.1533e-01,  6.0239e-01,  4.5068e-01,  ..., -3.0341e-02,\n",
      "           -1.8906e-01,  2.1232e-01],\n",
      "          [ 1.8721e-01, -6.6500e-01, -6.3634e-01,  ...,  1.9968e-01,\n",
      "            6.9710e-02, -6.8263e-02],\n",
      "          ...,\n",
      "          [-7.7660e-01, -5.4287e-01, -2.0097e-01,  ..., -1.3528e-01,\n",
      "           -6.5147e-01, -4.7407e-01],\n",
      "          [-2.2318e-01, -3.8711e-01,  8.4651e-01,  ..., -9.4131e-01,\n",
      "            9.4935e-02, -5.5512e-02],\n",
      "          [-1.9327e-01, -4.1079e-01, -2.5328e-01,  ..., -9.2106e-02,\n",
      "           -3.6282e-01,  6.7666e-02]]],\n",
      "\n",
      "\n",
      "        [[[-1.7546e-01, -4.3757e-01,  6.6676e-01,  ...,  3.2058e-01,\n",
      "            8.6894e-03,  7.6500e-02],\n",
      "          [ 9.2394e-02, -4.6960e-01,  6.6038e-01,  ...,  5.2795e-02,\n",
      "            6.3332e-01, -1.9953e-01],\n",
      "          [ 2.2716e-01, -4.5783e-02, -9.4308e-01,  ...,  2.0365e-01,\n",
      "            1.5158e-01,  2.4506e-01],\n",
      "          ...,\n",
      "          [-1.2926e-01, -7.2706e-01, -5.1377e-01,  ...,  1.8175e-01,\n",
      "            1.5830e+00,  1.8044e-01],\n",
      "          [-2.6771e-01,  6.0992e-02, -6.1811e-01,  ...,  2.8351e-01,\n",
      "            1.6701e-01,  1.5301e-01],\n",
      "          [ 3.7481e-01,  9.3636e-02, -8.7212e-02,  ...,  8.0825e-01,\n",
      "           -2.3665e-01,  6.0605e-01]],\n",
      "\n",
      "         [[ 4.3653e-02,  4.7297e-02,  5.7924e-02,  ..., -1.3136e-01,\n",
      "            2.9839e-01,  3.0561e-01],\n",
      "          [ 7.7154e-02, -3.6170e-01, -8.1976e-01,  ..., -1.0368e-01,\n",
      "            4.5170e-01,  1.1086e+00],\n",
      "          [-7.5797e-01,  9.1805e-01,  6.1352e-01,  ..., -4.9760e-01,\n",
      "           -4.0728e-01, -6.3304e-02],\n",
      "          ...,\n",
      "          [ 2.5001e-01,  6.6524e-02, -8.7345e-01,  ...,  1.3385e+00,\n",
      "            2.8803e-01, -1.8745e-01],\n",
      "          [ 3.6642e-02,  5.5078e-02,  2.9810e-02,  ..., -7.0393e-03,\n",
      "            3.9137e-01,  5.3025e-02],\n",
      "          [-2.1484e-01, -2.4532e-01,  1.5845e-01,  ...,  9.9563e-01,\n",
      "            5.4192e-01,  2.9094e-01]],\n",
      "\n",
      "         [[-2.9666e-01, -1.4965e-01,  2.0405e-02,  ..., -2.7957e-01,\n",
      "           -4.4753e-01, -2.8598e-01],\n",
      "          [-4.9207e-01, -4.1912e-02,  7.6122e-01,  ..., -3.1980e-01,\n",
      "           -3.3290e-01, -7.5599e-01],\n",
      "          [ 3.2806e-01, -3.2331e-01, -3.9959e-01,  ..., -1.7055e-01,\n",
      "            5.8245e-01, -2.9693e-01],\n",
      "          ...,\n",
      "          [ 7.4637e-01,  6.9874e-01, -2.8387e-01,  ..., -2.8537e-01,\n",
      "            1.2961e+00,  2.9188e-01],\n",
      "          [-2.6837e-01,  2.5720e-01,  3.5669e-01,  ..., -6.6946e-03,\n",
      "           -5.2208e-01, -5.1566e-01],\n",
      "          [-2.5635e-02,  2.9478e-01, -2.1625e-01,  ..., -1.3423e-01,\n",
      "            1.2135e-01,  3.0344e-01]],\n",
      "\n",
      "         ...,\n",
      "\n",
      "         [[ 1.1369e-01, -1.2504e-01,  1.0139e-01,  ..., -3.5985e-01,\n",
      "            3.9281e-01, -4.1266e-02],\n",
      "          [ 2.5879e-01,  8.3141e-01, -3.5816e-01,  ...,  8.6082e-01,\n",
      "            9.3656e-02, -7.3803e-01],\n",
      "          [ 5.0564e-02, -6.9156e-01, -3.1454e-01,  ..., -9.3637e-01,\n",
      "           -3.9852e-01,  4.5958e-01],\n",
      "          ...,\n",
      "          [-3.4565e-01,  4.4805e-01, -8.1430e-01,  ...,  2.7417e-01,\n",
      "            4.1379e-02, -1.2018e-01],\n",
      "          [ 2.2922e-01, -4.4012e-01, -4.1422e-01,  ...,  7.4192e-01,\n",
      "            3.3436e-01,  2.3334e-01],\n",
      "          [ 2.6053e-01,  5.1965e-01,  8.9207e-01,  ...,  3.3609e-01,\n",
      "           -6.2563e-01, -4.7035e-01]],\n",
      "\n",
      "         [[-1.3853e-01, -3.5895e-01, -5.1137e-01,  ..., -2.5326e-01,\n",
      "           -1.5722e-01,  1.7374e-01],\n",
      "          [ 1.8683e-01,  3.6269e-01,  2.5987e-01,  ...,  6.6462e-01,\n",
      "            4.1707e-01,  1.0934e-01],\n",
      "          [ 1.4213e-01, -4.9877e-01,  2.9886e-01,  ..., -1.0619e+00,\n",
      "           -9.5777e-01,  1.1663e-02],\n",
      "          ...,\n",
      "          [ 7.4584e-01, -2.9645e-01, -9.6201e-01,  ...,  4.9453e-01,\n",
      "            4.9699e-01,  3.8442e-01],\n",
      "          [ 9.7035e-01,  1.4744e-01, -7.7497e-01,  ...,  8.0129e-02,\n",
      "            2.0331e-02, -3.7189e-01],\n",
      "          [-2.7678e-01, -5.6109e-01, -1.6448e-01,  ..., -3.5308e-02,\n",
      "            3.1328e-01,  1.3939e-01]],\n",
      "\n",
      "         [[ 1.4283e-01,  8.0693e-02, -2.4212e-01,  ..., -1.5246e-01,\n",
      "            4.7599e-01, -3.1878e-02],\n",
      "          [ 3.9348e-02,  3.3040e-01,  3.7773e-01,  ..., -6.2021e-01,\n",
      "            6.3646e-01, -5.1962e-01],\n",
      "          [-1.5379e-01, -3.2943e-01,  3.3118e-01,  ...,  5.1181e-02,\n",
      "           -7.5296e-01, -1.0089e-01],\n",
      "          ...,\n",
      "          [ 4.2082e-01,  2.3813e-01, -1.1684e-01,  ...,  1.2603e-01,\n",
      "           -4.7012e-01, -8.3104e-01],\n",
      "          [ 1.6699e-02, -1.7101e-01, -9.7169e-01,  ...,  1.2533e-02,\n",
      "            1.1251e-02, -7.2532e-01],\n",
      "          [ 3.3534e-02,  1.0276e-01, -1.1482e-01,  ..., -1.2700e+00,\n",
      "           -1.3373e-02, -3.6859e-01]]]], grad_fn=<ConvolutionBackward0>)\n",
      "torch.Size([20, 33, 26, 100])\n"
     ]
    }
   ],
   "source": [
    "output= m(input)\n",
    "print(output)\n",
    "print(output.size())"
   ]
  },
  {
   "cell_type": "code",
   "execution_count": 15,
   "metadata": {},
   "outputs": [
    {
     "name": "stdout",
     "output_type": "stream",
     "text": [
      "tensor([[[[ 5.6932e-02, -3.9336e-02,  9.8141e-01,  ..., -6.9814e-01,\n",
      "            1.1628e+00, -1.2096e+00],\n",
      "          [-5.0831e-01, -7.2495e-01, -2.4289e+00,  ..., -1.0508e+00,\n",
      "            7.0056e-01,  9.7317e-02],\n",
      "          [ 3.8279e-01, -2.1515e+00, -1.4744e+00,  ..., -9.3848e-01,\n",
      "            6.9801e-01,  5.2759e-01],\n",
      "          ...,\n",
      "          [ 1.5160e+00,  9.0683e-01,  9.1814e-01,  ...,  5.2352e-01,\n",
      "            6.9742e-01, -4.6248e-01],\n",
      "          [ 3.2358e-01,  2.6824e-01, -1.3461e+00,  ...,  1.5049e-01,\n",
      "           -2.3971e-01,  7.2263e-01],\n",
      "          [-4.2021e-02, -5.6506e-01,  6.0839e-01,  ...,  1.2685e+00,\n",
      "           -6.4253e-01,  2.8155e-01]],\n",
      "\n",
      "         [[-1.1270e-01,  7.9215e-01,  1.4315e-01,  ..., -1.2085e+00,\n",
      "           -7.0583e-01, -7.7507e-02],\n",
      "          [ 1.1207e+00,  2.0893e+00,  3.6260e-01,  ..., -1.5838e+00,\n",
      "           -1.4142e+00,  3.4714e-01],\n",
      "          [ 8.3984e-01,  3.9595e-01, -1.4997e+00,  ..., -9.6390e-02,\n",
      "            3.0256e-01,  1.4608e+00],\n",
      "          ...,\n",
      "          [-1.3046e+00, -2.1512e-02,  4.9972e-01,  ..., -4.8031e-01,\n",
      "           -5.1854e-01,  5.8346e-01],\n",
      "          [ 3.2450e-01,  4.7459e-01, -8.0873e-01,  ...,  1.4336e+00,\n",
      "           -4.7579e-01, -9.3501e-01],\n",
      "          [-2.3942e+00,  1.2771e-01,  3.3803e-01,  ..., -8.0974e-02,\n",
      "            2.3162e+00,  7.4403e-01]],\n",
      "\n",
      "         [[-1.0403e-01, -1.5504e-01,  9.5108e-01,  ...,  9.3463e-01,\n",
      "           -4.9588e-01, -3.4321e-01],\n",
      "          [ 1.6854e-01, -6.9160e-01,  1.3297e-01,  ..., -1.2402e+00,\n",
      "            5.9378e-01,  8.5575e-01],\n",
      "          [-6.6154e-01,  1.4457e-01, -5.7748e-01,  ...,  1.2443e+00,\n",
      "            7.5402e-01, -2.3414e+00],\n",
      "          ...,\n",
      "          [ 6.2295e-01,  1.0760e+00,  9.4660e-02,  ..., -1.0686e+00,\n",
      "           -6.4857e-01,  6.0627e-01],\n",
      "          [-5.4948e-01, -9.4724e-01,  7.8168e-02,  ...,  4.9840e-01,\n",
      "            4.6262e-01, -1.1885e+00],\n",
      "          [-4.2846e-01, -2.4421e-01,  5.9996e-01,  ..., -1.4179e-02,\n",
      "            4.5588e-01,  5.9661e-01]],\n",
      "\n",
      "         ...,\n",
      "\n",
      "         [[ 5.1001e-01, -1.5030e+00, -3.0861e-01,  ...,  1.1704e+00,\n",
      "           -2.2263e-01,  1.2210e+00],\n",
      "          [ 1.5319e+00,  8.5940e-02,  2.0802e-01,  ..., -1.5221e+00,\n",
      "           -6.3893e-02, -3.8661e-01],\n",
      "          [-1.2443e+00,  5.5095e-02, -1.0647e+00,  ...,  7.6536e-01,\n",
      "           -1.0523e+00, -4.3255e-01],\n",
      "          ...,\n",
      "          [-4.1539e-01, -4.1384e-01, -3.1290e-01,  ..., -2.8395e-01,\n",
      "           -5.8184e-01,  2.8528e-01],\n",
      "          [-3.6341e-01,  5.1926e-01,  3.8368e-01,  ..., -1.0552e+00,\n",
      "            4.9214e-01, -1.7098e+00],\n",
      "          [ 1.9032e+00, -3.5489e-01,  1.2193e-01,  ...,  1.9368e+00,\n",
      "           -6.2399e-02,  3.8866e-01]],\n",
      "\n",
      "         [[-1.5302e+00,  8.4421e-01, -1.1121e+00,  ...,  8.2774e-01,\n",
      "            8.3650e-01,  1.5059e+00],\n",
      "          [-2.8758e-01, -1.0565e+00, -1.2137e+00,  ..., -4.1691e-02,\n",
      "           -4.8327e-01,  2.4232e-01],\n",
      "          [-5.1551e-01,  2.7331e-01,  4.5785e-01,  ...,  1.1852e-01,\n",
      "           -1.2474e+00,  3.7538e-02],\n",
      "          ...,\n",
      "          [-9.2325e-01,  1.4531e+00,  1.4164e+00,  ...,  4.2535e-01,\n",
      "            1.7094e-01, -2.7923e-01],\n",
      "          [ 9.4871e-01,  7.2534e-01, -1.3893e+00,  ...,  1.3439e+00,\n",
      "            6.0976e-03,  1.8560e-01],\n",
      "          [ 2.8247e-02, -4.9380e-01, -9.2131e-01,  ...,  5.9583e-01,\n",
      "           -1.2869e+00,  1.4302e+00]],\n",
      "\n",
      "         [[-2.4193e-01,  1.1601e+00,  7.3566e-02,  ...,  4.0589e-01,\n",
      "            4.6560e-01,  5.4876e-01],\n",
      "          [-1.8639e-01, -5.7409e-02,  6.1744e-01,  ..., -1.1032e+00,\n",
      "            5.6665e-01, -1.1791e-01],\n",
      "          [ 2.0577e-01, -1.6634e-01, -1.2727e+00,  ...,  2.7527e-01,\n",
      "            3.4633e-01, -6.0478e-01],\n",
      "          ...,\n",
      "          [ 1.3911e+00, -4.8263e-02,  1.9720e+00,  ...,  1.2347e+00,\n",
      "            1.0148e+00,  1.1644e+00],\n",
      "          [ 7.5255e-01, -1.2072e+00,  4.3941e-01,  ..., -6.7676e-02,\n",
      "            1.4409e+00, -3.3889e-01],\n",
      "          [ 1.1457e+00, -3.9778e-01, -1.4282e+00,  ...,  5.8983e-01,\n",
      "            5.0852e-01, -9.4386e-01]]],\n",
      "\n",
      "\n",
      "        [[[-3.5720e-01,  5.4697e-01, -1.0951e+00,  ..., -2.1419e+00,\n",
      "            5.8455e-02,  1.5297e+00],\n",
      "          [-1.4503e+00, -8.6839e-01, -1.5660e+00,  ...,  3.4526e-01,\n",
      "            5.9430e-01, -5.5247e-01],\n",
      "          [ 2.0495e-01,  1.8693e+00, -6.1608e-01,  ..., -2.6348e-01,\n",
      "           -7.7771e-01, -2.3823e-01],\n",
      "          ...,\n",
      "          [ 7.4988e-01, -3.1374e-01, -2.1842e+00,  ...,  8.7630e-01,\n",
      "           -3.4138e-01,  1.2050e-01],\n",
      "          [-2.4911e-01, -6.5680e-02,  3.8034e-01,  ..., -7.9178e-01,\n",
      "           -1.2164e+00, -2.2811e+00],\n",
      "          [ 1.1191e+00, -4.9573e-01,  1.3261e+00,  ..., -2.7955e+00,\n",
      "            1.2610e+00, -1.2185e+00]],\n",
      "\n",
      "         [[ 4.2803e-01, -1.3502e-01, -6.5169e-02,  ...,  2.6437e-01,\n",
      "           -6.7821e-01,  4.6672e-01],\n",
      "          [-1.3010e+00, -6.1882e-01,  3.7764e-01,  ..., -4.9815e-01,\n",
      "           -4.3527e-02,  2.1656e-01],\n",
      "          [ 1.3294e+00, -6.0819e-01,  2.4148e-01,  ...,  1.8414e-01,\n",
      "            6.4933e-01,  5.4050e-01],\n",
      "          ...,\n",
      "          [-2.0319e-01,  1.6594e+00,  2.7600e-01,  ...,  4.6060e-01,\n",
      "           -1.4447e-01,  9.6728e-01],\n",
      "          [-5.1234e-01,  5.8043e-01, -3.7926e-01,  ...,  3.7958e-01,\n",
      "           -2.1319e-01, -2.8627e+00],\n",
      "          [ 2.6489e-01, -4.3858e-01,  1.7603e+00,  ...,  5.2553e-01,\n",
      "           -1.8556e+00,  6.0648e-01]],\n",
      "\n",
      "         [[ 1.3302e+00,  1.0466e+00, -1.1123e+00,  ...,  5.9834e-01,\n",
      "           -1.6621e-01, -1.0940e+00],\n",
      "          [ 8.0938e-01,  1.1350e+00,  2.1579e-01,  ..., -3.4623e-02,\n",
      "            3.2356e-01, -4.6147e-01],\n",
      "          [ 1.9213e+00, -1.3339e+00,  8.7826e-01,  ..., -8.2798e-01,\n",
      "           -8.0043e-01,  3.6773e-01],\n",
      "          ...,\n",
      "          [-1.4869e+00, -1.7105e+00, -5.7085e-01,  ..., -9.4691e-01,\n",
      "           -1.4155e+00, -1.9161e-01],\n",
      "          [-4.8874e-01,  7.2014e-01,  8.5897e-01,  ..., -5.6996e-01,\n",
      "            9.5630e-01, -4.1521e-01],\n",
      "          [ 1.0510e-01, -1.0313e+00,  3.4161e-01,  ..., -2.4405e+00,\n",
      "            9.7633e-02, -3.7365e-01]],\n",
      "\n",
      "         ...,\n",
      "\n",
      "         [[ 1.0634e+00, -1.2650e+00,  1.3634e+00,  ...,  1.1342e+00,\n",
      "            1.1778e+00, -1.2920e-01],\n",
      "          [-3.7245e-01,  1.2935e-01, -8.8089e-01,  ..., -1.6227e+00,\n",
      "            8.8936e-01,  3.0550e-01],\n",
      "          [ 1.4157e+00,  1.0645e-01,  1.3382e+00,  ...,  2.0608e-01,\n",
      "            1.4404e-01,  1.5520e+00],\n",
      "          ...,\n",
      "          [-1.8631e+00, -1.9589e+00,  2.1268e-01,  ..., -7.9585e-01,\n",
      "            2.6613e+00,  1.2889e-01],\n",
      "          [ 2.2984e-01,  3.2987e-01, -8.1522e-01,  ..., -6.6521e-01,\n",
      "            6.8211e-02, -3.0257e-01],\n",
      "          [ 4.6390e-01, -2.3284e-01, -1.2571e-01,  ..., -6.3048e-01,\n",
      "            1.0677e+00, -1.2790e+00]],\n",
      "\n",
      "         [[-1.0796e+00,  8.1377e-01, -2.3462e-01,  ..., -7.7396e-01,\n",
      "            1.0726e-01, -2.9885e-02],\n",
      "          [ 1.6244e+00,  2.1362e-01,  1.9390e-01,  ...,  1.3323e+00,\n",
      "            7.4102e-01, -9.1832e-01],\n",
      "          [ 2.7577e-01,  6.1971e-01, -1.2200e+00,  ...,  8.2495e-01,\n",
      "            1.1350e-03,  5.0780e-01],\n",
      "          ...,\n",
      "          [-1.7206e+00,  1.7011e+00,  8.7230e-01,  ..., -1.0612e+00,\n",
      "           -8.7714e-01, -9.0251e-01],\n",
      "          [-4.2421e-01,  2.6735e-01,  5.7719e-01,  ..., -1.4682e-01,\n",
      "           -6.3480e-01,  4.4446e-01],\n",
      "          [ 4.1955e-01,  1.8588e-01,  1.7853e+00,  ..., -7.6706e-01,\n",
      "           -6.7531e-01, -7.2561e-01]],\n",
      "\n",
      "         [[-1.7394e-01,  5.7743e-01,  8.3903e-01,  ...,  5.5304e-02,\n",
      "            9.3273e-01,  1.3045e-01],\n",
      "          [ 1.3299e+00,  8.3013e-01, -3.9786e-01,  ...,  8.3869e-01,\n",
      "            6.5087e-01, -1.2368e+00],\n",
      "          [ 1.4776e+00,  7.0249e-01,  5.6787e-02,  ...,  1.2021e+00,\n",
      "            7.7463e-01, -9.1291e-01],\n",
      "          ...,\n",
      "          [ 2.0440e+00,  2.6925e-01,  1.4184e+00,  ...,  7.6166e-01,\n",
      "           -1.0224e+00, -2.3728e-01],\n",
      "          [-6.7009e-01,  3.6218e-02,  6.4042e-01,  ..., -5.7132e-01,\n",
      "            3.2237e-01, -4.5316e-02],\n",
      "          [ 8.0977e-01, -1.1089e-01, -2.3379e-01,  ...,  2.6357e-01,\n",
      "            8.4779e-01,  1.1160e+00]]],\n",
      "\n",
      "\n",
      "        [[[ 1.6349e+00,  1.3954e-01, -7.0228e-01,  ...,  1.6723e+00,\n",
      "            7.0979e-01,  9.0957e-01],\n",
      "          [ 9.1605e-01, -1.0599e-01, -5.8985e-01,  ..., -2.0593e+00,\n",
      "            1.1613e+00,  9.7027e-01],\n",
      "          [ 1.0130e+00, -3.3832e-01,  2.7100e-01,  ...,  7.4100e-01,\n",
      "           -3.8302e-01, -5.5110e-01],\n",
      "          ...,\n",
      "          [ 8.9512e-01, -1.4348e+00,  1.3601e+00,  ..., -1.0560e+00,\n",
      "           -1.0497e+00,  1.5577e-01],\n",
      "          [-6.5290e-01, -1.4964e+00, -2.2880e+00,  ..., -9.4683e-01,\n",
      "           -5.8692e-01,  1.0635e+00],\n",
      "          [-1.1669e+00, -5.5972e-01,  9.2018e-01,  ..., -1.0068e+00,\n",
      "           -1.5020e+00,  1.4476e+00]],\n",
      "\n",
      "         [[-5.7423e-01,  1.0373e-01, -9.0245e-01,  ...,  3.6814e-01,\n",
      "            1.0622e+00, -4.7701e-01],\n",
      "          [-9.4930e-01, -3.9863e-01,  1.2348e+00,  ...,  1.5292e+00,\n",
      "           -1.3783e+00,  6.2873e-01],\n",
      "          [-1.5167e-01, -5.2417e-01,  4.2305e-01,  ...,  9.3207e-01,\n",
      "           -3.5566e-01,  1.0848e+00],\n",
      "          ...,\n",
      "          [ 4.6769e-01, -8.3740e-01, -3.1335e-01,  ..., -1.2638e+00,\n",
      "           -2.1673e+00, -2.2331e+00],\n",
      "          [-1.1170e+00,  2.9072e+00,  5.3958e-02,  ..., -2.1235e-02,\n",
      "           -1.8471e+00,  1.4372e-02],\n",
      "          [ 7.7424e-01, -1.0492e+00,  4.0337e-01,  ...,  8.4785e-01,\n",
      "           -4.2341e-01,  5.4117e-01]],\n",
      "\n",
      "         [[ 9.7379e-01,  1.3784e+00,  1.6431e+00,  ..., -3.8747e-01,\n",
      "           -4.0982e-01, -7.7398e-01],\n",
      "          [-1.1894e+00, -5.0578e-01, -2.7502e-01,  ...,  7.3568e-01,\n",
      "            2.7338e+00,  8.4009e-02],\n",
      "          [ 1.5818e+00, -2.9382e-01, -1.0996e+00,  ..., -1.1579e+00,\n",
      "           -7.0258e-01, -1.6780e+00],\n",
      "          ...,\n",
      "          [ 5.0965e-01, -2.2540e-02, -4.0173e-01,  ..., -1.3055e-01,\n",
      "            7.1885e-01, -4.2799e-02],\n",
      "          [-4.3008e-01,  2.0844e-01, -1.8448e-01,  ...,  1.2927e+00,\n",
      "            3.3545e-01,  1.6140e-01],\n",
      "          [-1.2167e+00, -1.4291e+00,  9.1411e-01,  ..., -4.6574e-01,\n",
      "            1.7682e+00, -6.7940e-01]],\n",
      "\n",
      "         ...,\n",
      "\n",
      "         [[ 6.5631e-01,  7.5865e-01, -7.7087e-02,  ..., -1.5173e+00,\n",
      "            4.4160e-01,  5.3633e-01],\n",
      "          [ 9.9329e-01,  9.4880e-01, -2.9209e-02,  ..., -2.5326e+00,\n",
      "           -1.2275e+00, -6.2235e-01],\n",
      "          [ 1.1442e+00,  9.0593e-01, -3.7719e-01,  ...,  1.2420e+00,\n",
      "           -1.2431e+00, -1.1149e+00],\n",
      "          ...,\n",
      "          [ 2.7829e-01, -4.2058e-01,  1.1215e+00,  ...,  2.0683e-01,\n",
      "            1.1410e-01, -1.9854e-01],\n",
      "          [-3.5589e-01,  2.0032e+00, -1.2245e+00,  ...,  9.6938e-02,\n",
      "           -9.3041e-01,  1.1626e+00],\n",
      "          [ 4.4165e-01,  8.7173e-01, -3.8820e-01,  ..., -1.7333e+00,\n",
      "            6.8395e-02,  7.1134e-01]],\n",
      "\n",
      "         [[ 4.3651e-01,  5.8127e-01, -1.6606e+00,  ...,  2.8027e-01,\n",
      "           -8.2875e-02, -1.0340e+00],\n",
      "          [-1.2760e+00,  1.9896e+00,  7.6883e-01,  ..., -2.9304e-01,\n",
      "            5.3471e-01, -1.1611e-01],\n",
      "          [ 4.4396e-01, -7.4669e-01,  8.9585e-01,  ..., -1.5104e-01,\n",
      "           -1.3394e+00,  6.5665e-01],\n",
      "          ...,\n",
      "          [ 4.8485e-01, -1.2730e+00,  4.6422e-01,  ...,  2.7752e+00,\n",
      "           -1.2086e+00,  1.5436e+00],\n",
      "          [ 2.6945e-01,  3.1016e-01,  7.5335e-02,  ...,  8.0005e-01,\n",
      "            2.5592e+00,  5.1636e-02],\n",
      "          [ 3.4212e-01,  1.0969e-01, -1.2723e+00,  ..., -1.3738e+00,\n",
      "           -1.5392e+00,  1.0588e+00]],\n",
      "\n",
      "         [[-2.8684e-01, -6.7538e-02,  1.0180e+00,  ...,  2.4350e-01,\n",
      "            1.2735e+00,  1.3243e-01],\n",
      "          [ 2.0310e+00, -9.3861e-01,  3.3891e-01,  ...,  1.5562e-02,\n",
      "            2.0591e+00, -1.0949e+00],\n",
      "          [-1.3282e-01, -2.3560e+00,  1.4538e-01,  ..., -6.7539e-02,\n",
      "            2.1384e-01,  1.0918e+00],\n",
      "          ...,\n",
      "          [-6.0579e-01,  3.0850e-01,  1.7834e-01,  ...,  9.6137e-01,\n",
      "            3.0090e-01,  7.4332e-01],\n",
      "          [ 1.4615e+00,  1.8837e-01, -1.0732e+00,  ...,  1.3335e+00,\n",
      "           -5.7149e-01, -1.0102e-01],\n",
      "          [ 3.0390e-01, -2.0897e-01,  1.3599e+00,  ...,  3.2858e-01,\n",
      "            1.2934e+00, -1.0298e+00]]],\n",
      "\n",
      "\n",
      "        ...,\n",
      "\n",
      "\n",
      "        [[[ 1.0242e+00,  3.0359e-01,  1.2095e-01,  ..., -4.7299e-01,\n",
      "            8.3636e-01,  6.0401e-01],\n",
      "          [ 9.8729e-01, -9.8629e-01, -1.7365e+00,  ...,  3.2042e-01,\n",
      "            7.9559e-01, -1.5997e+00],\n",
      "          [ 7.1564e-01,  1.6784e+00,  4.1187e-01,  ...,  1.9155e+00,\n",
      "            4.0314e-01,  9.9507e-01],\n",
      "          ...,\n",
      "          [-1.6429e+00, -6.6050e-01, -8.7003e-01,  ..., -1.5313e+00,\n",
      "           -6.7200e-01, -1.0308e+00],\n",
      "          [ 4.8852e-01,  8.5622e-01,  3.2428e-01,  ..., -6.4233e-01,\n",
      "            3.8817e-01,  6.1662e-01],\n",
      "          [ 1.0024e-01,  7.6411e-01, -8.1028e-01,  ...,  4.1472e-01,\n",
      "           -1.0626e+00, -7.5253e-01]],\n",
      "\n",
      "         [[-2.0565e-01,  8.7213e-01,  2.2489e-01,  ...,  1.7634e+00,\n",
      "           -9.8091e-01,  5.3190e-02],\n",
      "          [-1.4437e+00,  2.1368e+00,  2.8028e-01,  ...,  1.0551e+00,\n",
      "            2.4810e-01, -4.1961e-01],\n",
      "          [-3.4552e-01, -8.6337e-01, -8.9437e-02,  ...,  1.3245e+00,\n",
      "            1.2744e+00,  1.3010e+00],\n",
      "          ...,\n",
      "          [-1.2051e+00,  6.6214e-01, -7.6819e-01,  ...,  1.9444e-01,\n",
      "            2.6901e-01, -2.0704e-01],\n",
      "          [-6.0220e-01, -8.6198e-01,  2.0486e-01,  ...,  2.7751e+00,\n",
      "           -2.3795e-01,  1.5585e+00],\n",
      "          [-1.1642e+00,  9.8113e-01,  2.3507e+00,  ..., -6.5829e-02,\n",
      "            4.1356e-01, -3.2129e-01]],\n",
      "\n",
      "         [[-9.0593e-01,  1.0896e+00, -1.1782e+00,  ..., -1.2963e+00,\n",
      "            3.0135e+00, -2.8160e-01],\n",
      "          [ 4.5679e-01,  4.5173e-01,  2.6584e-01,  ..., -6.7183e-01,\n",
      "            1.0286e-01, -1.1288e-01],\n",
      "          [-1.8385e+00,  1.1308e+00,  8.1399e-01,  ...,  1.3202e+00,\n",
      "           -1.7727e+00,  1.8212e+00],\n",
      "          ...,\n",
      "          [ 1.1970e+00,  3.1028e-01,  1.0344e+00,  ...,  1.9376e-01,\n",
      "            4.1814e-01, -1.9160e+00],\n",
      "          [-8.0216e-01,  4.6353e-01, -3.0119e-01,  ..., -9.0612e-01,\n",
      "           -3.1533e-03, -6.4843e-02],\n",
      "          [ 1.3824e+00,  9.6536e-01, -2.4524e-01,  ..., -1.0721e-02,\n",
      "            2.4930e-01, -1.0559e-01]],\n",
      "\n",
      "         ...,\n",
      "\n",
      "         [[-2.1627e-01,  1.2703e+00,  7.4436e-01,  ...,  5.0029e-01,\n",
      "            4.5276e-01, -2.8972e-01],\n",
      "          [ 1.7878e+00, -8.6711e-01,  6.5383e-01,  ...,  4.5764e-01,\n",
      "            3.1528e-01, -3.4325e-01],\n",
      "          [-7.7172e-01,  1.7447e+00,  1.1851e+00,  ..., -6.3643e-01,\n",
      "           -4.2021e-01, -1.7894e+00],\n",
      "          ...,\n",
      "          [-1.6699e+00,  2.3915e+00, -2.0034e+00,  ..., -1.0906e+00,\n",
      "           -7.9482e-01,  4.3818e-02],\n",
      "          [-1.3645e+00, -1.0456e+00,  7.1193e-02,  ..., -4.8717e-01,\n",
      "           -1.9793e-01, -9.9305e-01],\n",
      "          [-6.8415e-01, -6.3105e-01,  7.4203e-01,  ..., -4.7564e-01,\n",
      "            2.2917e-01, -1.7189e-01]],\n",
      "\n",
      "         [[ 2.2593e-01,  1.1721e+00, -7.2754e-03,  ..., -4.6538e-01,\n",
      "            1.1250e-02,  9.1236e-01],\n",
      "          [-6.1106e-01, -1.4026e-01, -8.7700e-01,  ..., -2.5809e-01,\n",
      "            6.4781e-01, -2.4911e+00],\n",
      "          [ 4.1582e-01,  1.1380e+00, -1.4422e+00,  ...,  8.4320e-01,\n",
      "            6.8985e-02,  3.8589e-01],\n",
      "          ...,\n",
      "          [-2.8695e-01,  3.4475e-01,  6.9056e-01,  ...,  1.9266e+00,\n",
      "           -1.0362e+00,  7.0873e-02],\n",
      "          [-3.3543e-01,  1.8815e+00,  1.9236e+00,  ...,  1.8581e+00,\n",
      "            2.3833e-01, -3.6333e-01],\n",
      "          [ 8.0223e-01, -2.9383e-01, -1.9430e-01,  ..., -3.8424e-01,\n",
      "           -7.1044e-01, -8.2930e-01]],\n",
      "\n",
      "         [[ 6.0471e-02, -1.2105e+00, -6.3724e-01,  ..., -7.7277e-01,\n",
      "           -9.0892e-01, -4.7939e-01],\n",
      "          [ 8.9639e-01,  1.0812e+00, -2.2786e+00,  ..., -1.4551e+00,\n",
      "            1.5531e-01, -1.4239e-01],\n",
      "          [-3.1309e-01,  4.9330e-01, -6.3494e-01,  ...,  2.0086e+00,\n",
      "            1.5630e+00, -2.1838e+00],\n",
      "          ...,\n",
      "          [ 1.6527e+00,  3.0615e-01, -2.5356e-01,  ..., -1.1584e+00,\n",
      "            4.4632e-02,  4.2763e-01],\n",
      "          [-7.9161e-01, -9.7637e-01, -1.5371e+00,  ..., -5.5134e-01,\n",
      "           -1.1784e+00, -4.4365e-01],\n",
      "          [-9.7218e-01, -4.1886e-01,  5.1724e-01,  ..., -3.2468e-01,\n",
      "           -2.0561e-01,  1.8628e-01]]],\n",
      "\n",
      "\n",
      "        [[[-2.2895e+00, -4.8031e-01, -1.5057e-01,  ..., -1.3394e+00,\n",
      "            1.0908e+00,  6.5779e-01],\n",
      "          [-3.4065e-01,  5.8442e-01,  1.5465e+00,  ...,  1.0410e+00,\n",
      "            1.7152e+00,  5.4773e-01],\n",
      "          [-4.2296e-01,  1.6450e+00, -7.3077e-03,  ..., -1.8197e+00,\n",
      "           -2.3544e+00, -5.7916e-01],\n",
      "          ...,\n",
      "          [-5.7809e-01,  9.2517e-01,  3.6122e-01,  ..., -8.8960e-01,\n",
      "            4.0898e-01,  7.3381e-01],\n",
      "          [-1.5617e+00, -1.8461e-01,  1.8010e+00,  ..., -3.0673e-01,\n",
      "            1.4706e+00, -1.2008e-01],\n",
      "          [ 8.0583e-02,  4.5463e-01,  1.8581e-01,  ..., -1.8781e-01,\n",
      "           -1.8090e+00, -1.0438e+00]],\n",
      "\n",
      "         [[-1.7602e-01,  2.6210e+00,  4.3759e-01,  ..., -7.5418e-01,\n",
      "            1.2012e-01, -2.6495e-02],\n",
      "          [ 9.0260e-01,  3.5078e-01,  5.6686e-01,  ...,  5.6195e-01,\n",
      "           -1.8953e+00,  4.7825e-01],\n",
      "          [ 1.9019e+00,  2.7835e-01, -1.4661e-01,  ...,  1.5325e-01,\n",
      "           -3.5161e-01,  9.6653e-01],\n",
      "          ...,\n",
      "          [-1.4693e+00,  1.2806e+00,  2.3289e+00,  ..., -5.8692e-01,\n",
      "            2.0576e-01, -6.6023e-01],\n",
      "          [-8.0279e-01,  2.8731e-02,  6.2342e-01,  ...,  1.5699e-02,\n",
      "            1.6201e-02,  6.9142e-02],\n",
      "          [-1.2153e+00, -7.5817e-01,  2.6780e+00,  ..., -3.4368e-01,\n",
      "            4.7354e-01,  9.1564e-01]],\n",
      "\n",
      "         [[-1.7961e-01, -7.4169e-01, -9.2473e-01,  ...,  4.2577e-01,\n",
      "           -1.1577e+00, -4.3350e-02],\n",
      "          [-1.5537e+00, -1.9954e-01, -2.9616e-01,  ..., -9.2427e-01,\n",
      "            1.1557e+00,  3.2412e-01],\n",
      "          [-1.1823e+00,  1.0313e+00,  8.3375e-01,  ...,  1.4937e+00,\n",
      "            3.2389e-01,  5.4359e-01],\n",
      "          ...,\n",
      "          [-2.3675e-02,  8.6948e-01, -3.5759e-01,  ...,  6.6308e-01,\n",
      "            8.9813e-02, -7.6099e-01],\n",
      "          [ 6.8955e-01, -1.1203e-01, -7.5285e-01,  ...,  5.0748e-01,\n",
      "            8.4116e-01,  7.0721e-01],\n",
      "          [-7.4019e-01, -1.7597e+00,  1.9223e+00,  ...,  1.1343e+00,\n",
      "           -1.6835e+00, -4.5494e-01]],\n",
      "\n",
      "         ...,\n",
      "\n",
      "         [[-1.0199e+00,  4.8977e-01,  2.1928e+00,  ...,  4.0884e-01,\n",
      "           -1.7313e+00,  2.2868e-02],\n",
      "          [-1.9761e+00,  1.5853e+00,  8.5791e-01,  ...,  1.6944e+00,\n",
      "            1.1927e+00, -6.3612e-01],\n",
      "          [-6.6428e-01,  4.1974e-01,  4.7604e-01,  ..., -8.8855e-02,\n",
      "            3.0052e+00,  1.7277e+00],\n",
      "          ...,\n",
      "          [ 2.4583e-01,  5.4882e-01, -4.8127e-01,  ...,  4.9568e-01,\n",
      "            2.3612e-01,  5.4861e-01],\n",
      "          [-1.0265e+00,  1.9705e-02,  7.7694e-01,  ...,  2.9223e-01,\n",
      "            5.9665e-01,  8.1205e-02],\n",
      "          [-1.0609e+00, -3.6096e-02,  1.1386e+00,  ...,  1.5516e+00,\n",
      "            9.0988e-01,  9.8021e-01]],\n",
      "\n",
      "         [[ 1.1472e-01,  6.3548e-01,  9.2906e-01,  ..., -8.4839e-01,\n",
      "           -1.1875e+00,  4.7319e-01],\n",
      "          [-6.3044e-01,  2.2361e+00,  5.5403e-01,  ...,  7.2067e-02,\n",
      "           -2.9952e-01, -1.1712e+00],\n",
      "          [ 1.2539e+00, -1.8816e-01, -1.2961e+00,  ...,  8.1336e-01,\n",
      "            2.3268e-01,  6.9677e-01],\n",
      "          ...,\n",
      "          [ 1.0258e+00, -1.6476e-01,  6.5316e-01,  ...,  8.3471e-03,\n",
      "            1.0197e+00, -1.3568e+00],\n",
      "          [-4.2683e-01,  5.3887e-01,  7.9074e-01,  ..., -8.5307e-01,\n",
      "            5.1260e-01,  6.5740e-01],\n",
      "          [-1.4021e+00, -4.9964e-01,  1.4649e+00,  ..., -1.0459e+00,\n",
      "            4.8375e-01, -1.3738e+00]],\n",
      "\n",
      "         [[ 1.1031e+00,  4.2621e-01,  1.1594e+00,  ..., -2.6356e-01,\n",
      "            1.6330e+00, -8.2542e-02],\n",
      "          [-2.2620e+00, -1.4242e+00,  1.9181e+00,  ...,  5.2829e-01,\n",
      "            1.7102e+00, -2.7822e+00],\n",
      "          [ 4.6637e-01, -1.0117e+00,  2.8986e-01,  ..., -2.3895e-01,\n",
      "            5.1743e-02, -2.7169e-01],\n",
      "          ...,\n",
      "          [ 3.2508e-01,  7.9226e-01,  4.8455e-01,  ..., -1.6530e-01,\n",
      "           -4.0469e-01,  6.7272e-01],\n",
      "          [ 1.3709e+00, -6.9795e-01,  8.7799e-01,  ..., -2.1215e-01,\n",
      "            1.2128e+00,  2.0463e+00],\n",
      "          [ 2.2953e-01,  2.4439e-01,  1.1122e+00,  ...,  8.3578e-01,\n",
      "            1.9253e+00,  3.6546e-01]]],\n",
      "\n",
      "\n",
      "        [[[ 3.5644e-01,  1.6795e-02, -9.9287e-01,  ...,  4.0767e-01,\n",
      "           -1.1141e+00,  7.9407e-01],\n",
      "          [-1.0968e-01,  5.2918e-01, -3.6510e-01,  ...,  4.7369e-01,\n",
      "            1.4700e+00,  5.9466e-01],\n",
      "          [-9.5258e-01, -5.7652e-02,  9.2909e-02,  ..., -8.0282e-02,\n",
      "            9.2155e-02, -1.0285e+00],\n",
      "          ...,\n",
      "          [ 1.2174e+00,  1.0491e-01,  1.3951e+00,  ...,  1.5247e+00,\n",
      "            1.2712e+00,  7.6657e-01],\n",
      "          [ 1.8105e+00, -8.1483e-01,  1.3659e+00,  ...,  4.3985e-01,\n",
      "           -2.5282e+00,  1.3651e+00],\n",
      "          [ 3.5724e-01, -4.6210e-01,  1.5163e+00,  ..., -3.2430e-01,\n",
      "            9.8011e-02, -7.9100e-01]],\n",
      "\n",
      "         [[-1.9122e+00, -2.2972e-01,  1.0415e+00,  ...,  6.5398e-01,\n",
      "           -2.7148e-01,  8.0096e-01],\n",
      "          [-4.9402e-01,  1.2408e+00, -8.3807e-01,  ...,  1.0471e+00,\n",
      "           -1.9214e-01, -4.8261e-01],\n",
      "          [-4.2467e-01,  2.6035e-01, -7.7537e-01,  ..., -1.5281e+00,\n",
      "            4.5753e-01, -1.1217e-01],\n",
      "          ...,\n",
      "          [-1.8110e+00, -8.5039e-01, -7.7202e-03,  ...,  4.8042e-01,\n",
      "           -1.3323e+00,  1.0340e+00],\n",
      "          [ 1.0707e+00,  1.8556e+00,  8.7306e-01,  ...,  1.4964e+00,\n",
      "            6.3360e-01, -6.3164e-02],\n",
      "          [-3.8018e-01,  3.1014e-01, -8.5898e-01,  ...,  3.9395e-01,\n",
      "           -1.9338e+00, -5.2770e-01]],\n",
      "\n",
      "         [[ 1.3563e+00,  9.6815e-01,  2.6239e-01,  ..., -5.6251e-01,\n",
      "            1.9702e-01,  2.1146e-01],\n",
      "          [-8.4406e-01,  3.4104e+00,  1.7394e+00,  ..., -1.9350e-01,\n",
      "           -6.5186e-01, -4.0448e-01],\n",
      "          [-4.7839e-03, -1.4340e+00, -5.7460e-01,  ..., -5.6189e-01,\n",
      "           -2.6961e-01, -4.1163e-01],\n",
      "          ...,\n",
      "          [ 7.6496e-01, -4.6259e-02, -4.6615e-01,  ...,  7.3072e-01,\n",
      "           -3.8123e-01, -1.3477e+00],\n",
      "          [-8.6919e-01,  3.4375e-01, -7.1276e-01,  ..., -7.5244e-01,\n",
      "            8.4851e-02, -9.9052e-01],\n",
      "          [ 7.2857e-01,  7.9551e-01, -1.8383e+00,  ..., -1.9839e+00,\n",
      "           -2.7577e-01,  1.8177e+00]],\n",
      "\n",
      "         ...,\n",
      "\n",
      "         [[ 8.3735e-01, -9.1141e-01,  5.1764e-02,  ..., -1.0098e+00,\n",
      "            2.0844e-01,  1.4205e-01],\n",
      "          [-7.1533e-02, -1.3354e-02, -1.5659e+00,  ...,  4.5381e-01,\n",
      "           -1.0699e+00, -1.4968e-01],\n",
      "          [ 4.4612e-01, -1.1074e+00, -1.1253e+00,  ..., -8.9426e-02,\n",
      "            1.3040e+00,  5.1653e-02],\n",
      "          ...,\n",
      "          [ 3.3754e-01, -8.4016e-01,  1.0434e+00,  ...,  7.9831e-01,\n",
      "            4.2132e-01, -2.1489e+00],\n",
      "          [ 8.0879e-01,  1.8816e+00,  8.0729e-01,  ..., -1.6579e+00,\n",
      "           -5.1975e-01, -5.1902e-01],\n",
      "          [-5.1704e-01, -1.8523e-01,  3.8310e-02,  ..., -2.2654e+00,\n",
      "           -9.3381e-01, -6.2246e-01]],\n",
      "\n",
      "         [[-1.3169e+00,  1.2489e+00, -9.6904e-01,  ..., -7.8150e-01,\n",
      "            5.5281e-01, -8.1486e-01],\n",
      "          [ 1.3410e+00, -7.6253e-01,  6.4311e-01,  ...,  8.8421e-01,\n",
      "            6.7139e-01, -6.4762e-01],\n",
      "          [-3.8307e-01,  1.1197e+00, -1.1839e+00,  ..., -1.9897e-01,\n",
      "            2.1412e+00,  1.0751e+00],\n",
      "          ...,\n",
      "          [ 8.1331e-02, -4.0962e-03, -1.9216e-01,  ..., -8.1885e-01,\n",
      "           -4.3298e-01, -5.6534e-01],\n",
      "          [-7.8537e-01,  1.7897e-03, -5.1348e-01,  ...,  9.9518e-01,\n",
      "           -3.8329e-01, -8.4466e-01],\n",
      "          [-1.0548e+00, -8.4861e-01,  2.4097e-01,  ...,  6.1944e-01,\n",
      "           -7.0694e-01,  4.0822e-01]],\n",
      "\n",
      "         [[-6.6118e-01,  3.5105e-01, -7.8901e-01,  ...,  1.3670e-01,\n",
      "           -1.2639e+00,  1.0171e+00],\n",
      "          [ 1.0705e+00, -5.2534e-01, -3.5483e-01,  ...,  1.2840e-01,\n",
      "           -4.0630e-01, -8.7503e-01],\n",
      "          [-1.5155e+00, -3.6456e-01, -1.4023e+00,  ...,  2.0334e+00,\n",
      "            6.1843e-01, -1.5681e+00],\n",
      "          ...,\n",
      "          [ 3.0046e-01,  7.4789e-01,  6.2218e-01,  ...,  6.3422e-02,\n",
      "           -1.8050e-01, -7.4203e-01],\n",
      "          [ 8.8227e-01,  4.5577e-01, -2.2267e-01,  ...,  8.1708e-01,\n",
      "           -4.2262e-01, -2.1330e-01],\n",
      "          [ 9.5889e-01, -3.9673e-01, -8.1990e-01,  ...,  1.0509e+00,\n",
      "           -1.0769e+00, -2.8189e-01]]]])\n"
     ]
    }
   ],
   "source": [
    "print(input)"
   ]
  },
  {
   "cell_type": "markdown",
   "metadata": {},
   "source": [
    "#### Convolutional Layers\n",
    "    - in_channels : channel의 갯수\n",
    "    - out_channels : 출력 채널의 갯수\n",
    "    - kernel_size = 커널(필터) 사이즈"
   ]
  },
  {
   "cell_type": "code",
   "execution_count": 16,
   "metadata": {},
   "outputs": [
    {
     "data": {
      "text/plain": [
       "Conv2d(1, 20, kernel_size=(5, 5), stride=(1, 1))"
      ]
     },
     "execution_count": 16,
     "metadata": {},
     "output_type": "execute_result"
    }
   ],
   "source": [
    "nn.Conv2d(in_channels=1, out_channels=20, kernel_size=5, stride=1)"
   ]
  },
  {
   "cell_type": "code",
   "execution_count": 17,
   "metadata": {},
   "outputs": [
    {
     "data": {
      "text/plain": [
       "Conv2d(1, 20, kernel_size=(5, 5), stride=(1, 1))"
      ]
     },
     "execution_count": 17,
     "metadata": {},
     "output_type": "execute_result"
    }
   ],
   "source": [
    "layer = nn.Conv2d(1, 20, 5, 1).to(torch.device('cuda'))\n",
    "layer"
   ]
  },
  {
   "cell_type": "code",
   "execution_count": 18,
   "metadata": {},
   "outputs": [
    {
     "name": "stdout",
     "output_type": "stream",
     "text": [
      "Parameter containing:\n",
      "tensor([[[[-0.1443,  0.0482,  0.1103, -0.0685,  0.1564],\n",
      "          [-0.1320,  0.0922, -0.1640, -0.0292,  0.1502],\n",
      "          [-0.1564,  0.0686,  0.1502,  0.0207,  0.1664],\n",
      "          [ 0.0085,  0.1240, -0.0196,  0.0491, -0.0616],\n",
      "          [-0.1576, -0.1455,  0.1527,  0.1800,  0.0589]]],\n",
      "\n",
      "\n",
      "        [[[-0.0193, -0.0576, -0.0868, -0.1407,  0.1819],\n",
      "          [-0.1314,  0.1817,  0.0343,  0.0849,  0.1539],\n",
      "          [-0.1213,  0.0241,  0.1577, -0.0999,  0.0271],\n",
      "          [ 0.1925, -0.1904, -0.0954,  0.0003,  0.1029],\n",
      "          [ 0.0426, -0.1241, -0.1647,  0.0022,  0.1474]]],\n",
      "\n",
      "\n",
      "        [[[-0.0815, -0.1903,  0.1967,  0.0501,  0.0034],\n",
      "          [-0.0264,  0.0080,  0.1812,  0.1701, -0.0533],\n",
      "          [-0.1548, -0.1845, -0.1658,  0.1450, -0.0840],\n",
      "          [-0.0901, -0.1207,  0.1639,  0.1213, -0.0500],\n",
      "          [ 0.1074, -0.1563, -0.0439, -0.1903,  0.1232]]],\n",
      "\n",
      "\n",
      "        [[[-0.1451,  0.1535, -0.0957,  0.0008, -0.0353],\n",
      "          [ 0.0527, -0.0237,  0.1756, -0.0770, -0.1728],\n",
      "          [-0.1843,  0.1603, -0.0709,  0.0226,  0.0191],\n",
      "          [-0.1064,  0.1256,  0.1299, -0.1194, -0.0600],\n",
      "          [-0.1290,  0.1211, -0.1226,  0.0485, -0.1770]]],\n",
      "\n",
      "\n",
      "        [[[ 0.1509, -0.0686, -0.0098,  0.1064,  0.1236],\n",
      "          [ 0.1620, -0.0399, -0.0048, -0.1228, -0.0638],\n",
      "          [ 0.1716,  0.0004, -0.0024,  0.1783, -0.0316],\n",
      "          [ 0.0443, -0.1368, -0.0743,  0.0851, -0.0509],\n",
      "          [-0.1846, -0.0355,  0.0738,  0.0563,  0.0158]]],\n",
      "\n",
      "\n",
      "        [[[-0.0413,  0.1932, -0.0253,  0.0146,  0.1804],\n",
      "          [ 0.1489, -0.1492, -0.1874,  0.1331,  0.1455],\n",
      "          [ 0.1880, -0.1938,  0.0634, -0.0011,  0.1939],\n",
      "          [-0.1753, -0.0836, -0.0095, -0.0950,  0.0718],\n",
      "          [-0.1677,  0.0483, -0.0754, -0.1180,  0.1325]]],\n",
      "\n",
      "\n",
      "        [[[-0.0389,  0.0850,  0.1002,  0.0803, -0.0678],\n",
      "          [-0.0012, -0.0973,  0.1481, -0.1978,  0.0394],\n",
      "          [ 0.0452, -0.1200, -0.1892,  0.0535, -0.1707],\n",
      "          [-0.1268, -0.1821,  0.1644, -0.1297,  0.1621],\n",
      "          [ 0.0773,  0.1200, -0.1662,  0.1453, -0.1907]]],\n",
      "\n",
      "\n",
      "        [[[ 0.1710, -0.1499, -0.0900,  0.0624, -0.0526],\n",
      "          [-0.1082, -0.1940,  0.1945, -0.0005, -0.1328],\n",
      "          [-0.1162,  0.0545,  0.1169, -0.0382, -0.1447],\n",
      "          [-0.1772,  0.0337, -0.0670, -0.0399, -0.1064],\n",
      "          [ 0.0805, -0.1185, -0.0093, -0.1646, -0.1549]]],\n",
      "\n",
      "\n",
      "        [[[ 0.0635, -0.0247, -0.1761, -0.0405,  0.0228],\n",
      "          [ 0.1063,  0.0570, -0.1711, -0.1909,  0.0609],\n",
      "          [-0.1749, -0.0078,  0.1457, -0.1987, -0.0041],\n",
      "          [-0.1288,  0.1180,  0.0469, -0.0080,  0.0650],\n",
      "          [-0.0827,  0.0244, -0.0675, -0.0036,  0.1313]]],\n",
      "\n",
      "\n",
      "        [[[-0.0551, -0.1943, -0.0313,  0.1480,  0.1508],\n",
      "          [-0.0197, -0.0063, -0.1763, -0.0735,  0.1892],\n",
      "          [ 0.0741,  0.0326,  0.0845, -0.1924,  0.0312],\n",
      "          [ 0.1905, -0.0669,  0.1125, -0.0103,  0.0698],\n",
      "          [ 0.0135, -0.0527,  0.0658,  0.0037, -0.0022]]],\n",
      "\n",
      "\n",
      "        [[[-0.0085, -0.0787,  0.0752, -0.1618,  0.1320],\n",
      "          [-0.1792,  0.1377,  0.1183,  0.0880,  0.0264],\n",
      "          [ 0.1846,  0.1706,  0.0692, -0.0134, -0.0367],\n",
      "          [ 0.0621, -0.0141,  0.0881,  0.0068,  0.0347],\n",
      "          [ 0.1853, -0.1202, -0.1676, -0.0802, -0.1891]]],\n",
      "\n",
      "\n",
      "        [[[-0.1379,  0.1793,  0.0039, -0.0511, -0.0398],\n",
      "          [ 0.0728,  0.1028, -0.0794,  0.1364, -0.1630],\n",
      "          [-0.1299, -0.1923,  0.1624, -0.0405, -0.1941],\n",
      "          [ 0.0253, -0.1997, -0.0739,  0.1608,  0.0794],\n",
      "          [-0.1911,  0.0930,  0.1634, -0.0699, -0.1840]]],\n",
      "\n",
      "\n",
      "        [[[-0.1890,  0.1594,  0.0373,  0.1802,  0.0745],\n",
      "          [ 0.0918, -0.1553,  0.0871,  0.1849, -0.0708],\n",
      "          [ 0.0570,  0.0405,  0.1404,  0.0922,  0.1076],\n",
      "          [-0.0423, -0.1948,  0.1173,  0.0939,  0.1913],\n",
      "          [-0.1995, -0.0384, -0.1239, -0.1519,  0.0072]]],\n",
      "\n",
      "\n",
      "        [[[ 0.1811,  0.1100,  0.1045, -0.0407, -0.0794],\n",
      "          [ 0.0100, -0.1992,  0.0204, -0.0283,  0.0177],\n",
      "          [-0.1166,  0.1348, -0.0436,  0.0723,  0.1629],\n",
      "          [ 0.1171, -0.1377,  0.1442,  0.1120, -0.1094],\n",
      "          [ 0.1587, -0.1768, -0.1699, -0.1179,  0.1718]]],\n",
      "\n",
      "\n",
      "        [[[ 0.0905, -0.1151, -0.1341, -0.0729, -0.1523],\n",
      "          [-0.0179, -0.1550,  0.0420,  0.0267,  0.0890],\n",
      "          [ 0.0023,  0.1532, -0.0267,  0.0708, -0.1179],\n",
      "          [-0.0181, -0.0935,  0.1241,  0.1300,  0.1779],\n",
      "          [-0.0637,  0.0686,  0.1964, -0.0978,  0.0032]]],\n",
      "\n",
      "\n",
      "        [[[-0.0889, -0.1680,  0.0356, -0.1350, -0.0685],\n",
      "          [ 0.0723,  0.0337,  0.0773,  0.1404, -0.0008],\n",
      "          [ 0.1499,  0.1377, -0.0719,  0.0659,  0.0908],\n",
      "          [ 0.0429,  0.1549,  0.1228, -0.1471, -0.1368],\n",
      "          [-0.1657,  0.0767, -0.0789, -0.0717, -0.1320]]],\n",
      "\n",
      "\n",
      "        [[[-0.1685, -0.1295, -0.0085,  0.0068,  0.1902],\n",
      "          [-0.0860,  0.1088,  0.0579,  0.1141, -0.0294],\n",
      "          [-0.1827, -0.0337,  0.0905,  0.0049, -0.1530],\n",
      "          [ 0.1571, -0.0407,  0.1338,  0.0383, -0.0616],\n",
      "          [-0.1196,  0.1261, -0.1958,  0.0695,  0.0199]]],\n",
      "\n",
      "\n",
      "        [[[ 0.0245,  0.0244, -0.1110, -0.0650, -0.0299],\n",
      "          [-0.0580,  0.0526, -0.0510,  0.0266,  0.0297],\n",
      "          [ 0.0664, -0.1802, -0.0531, -0.0225, -0.0731],\n",
      "          [-0.0472,  0.1674, -0.1483,  0.1473,  0.1867],\n",
      "          [ 0.1662, -0.1622,  0.1917,  0.1820, -0.1582]]],\n",
      "\n",
      "\n",
      "        [[[ 0.1750,  0.0005,  0.1119, -0.0203,  0.0674],\n",
      "          [ 0.1451,  0.1296, -0.1484,  0.0500, -0.0162],\n",
      "          [-0.0178, -0.1783,  0.0757, -0.0596, -0.1128],\n",
      "          [ 0.0951, -0.1109, -0.1264,  0.0155, -0.1930],\n",
      "          [-0.0554,  0.0526, -0.1338,  0.0716, -0.0219]]],\n",
      "\n",
      "\n",
      "        [[[-0.1088,  0.0499, -0.0466,  0.1728,  0.1533],\n",
      "          [ 0.0944,  0.1830, -0.0678, -0.1477, -0.1925],\n",
      "          [ 0.1730,  0.1721, -0.1199,  0.0387, -0.0337],\n",
      "          [-0.0839,  0.0182,  0.1271,  0.1466,  0.0538],\n",
      "          [-0.0024,  0.1465,  0.0423,  0.1192, -0.0803]]]], device='cuda:0',\n",
      "       requires_grad=True)\n",
      "torch.Size([20, 1, 5, 5])\n"
     ]
    }
   ],
   "source": [
    "# weight 확인\n",
    "weight = layer.weight\n",
    "print(weight)\n",
    "print(weight.shape)"
   ]
  },
  {
   "cell_type": "code",
   "execution_count": 19,
   "metadata": {},
   "outputs": [
    {
     "name": "stdout",
     "output_type": "stream",
     "text": [
      "tensor([[[[-0.1443,  0.0482,  0.1103, -0.0685,  0.1564],\n",
      "          [-0.1320,  0.0922, -0.1640, -0.0292,  0.1502],\n",
      "          [-0.1564,  0.0686,  0.1502,  0.0207,  0.1664],\n",
      "          [ 0.0085,  0.1240, -0.0196,  0.0491, -0.0616],\n",
      "          [-0.1576, -0.1455,  0.1527,  0.1800,  0.0589]]],\n",
      "\n",
      "\n",
      "        [[[-0.0193, -0.0576, -0.0868, -0.1407,  0.1819],\n",
      "          [-0.1314,  0.1817,  0.0343,  0.0849,  0.1539],\n",
      "          [-0.1213,  0.0241,  0.1577, -0.0999,  0.0271],\n",
      "          [ 0.1925, -0.1904, -0.0954,  0.0003,  0.1029],\n",
      "          [ 0.0426, -0.1241, -0.1647,  0.0022,  0.1474]]],\n",
      "\n",
      "\n",
      "        [[[-0.0815, -0.1903,  0.1967,  0.0501,  0.0034],\n",
      "          [-0.0264,  0.0080,  0.1812,  0.1701, -0.0533],\n",
      "          [-0.1548, -0.1845, -0.1658,  0.1450, -0.0840],\n",
      "          [-0.0901, -0.1207,  0.1639,  0.1213, -0.0500],\n",
      "          [ 0.1074, -0.1563, -0.0439, -0.1903,  0.1232]]],\n",
      "\n",
      "\n",
      "        [[[-0.1451,  0.1535, -0.0957,  0.0008, -0.0353],\n",
      "          [ 0.0527, -0.0237,  0.1756, -0.0770, -0.1728],\n",
      "          [-0.1843,  0.1603, -0.0709,  0.0226,  0.0191],\n",
      "          [-0.1064,  0.1256,  0.1299, -0.1194, -0.0600],\n",
      "          [-0.1290,  0.1211, -0.1226,  0.0485, -0.1770]]],\n",
      "\n",
      "\n",
      "        [[[ 0.1509, -0.0686, -0.0098,  0.1064,  0.1236],\n",
      "          [ 0.1620, -0.0399, -0.0048, -0.1228, -0.0638],\n",
      "          [ 0.1716,  0.0004, -0.0024,  0.1783, -0.0316],\n",
      "          [ 0.0443, -0.1368, -0.0743,  0.0851, -0.0509],\n",
      "          [-0.1846, -0.0355,  0.0738,  0.0563,  0.0158]]],\n",
      "\n",
      "\n",
      "        [[[-0.0413,  0.1932, -0.0253,  0.0146,  0.1804],\n",
      "          [ 0.1489, -0.1492, -0.1874,  0.1331,  0.1455],\n",
      "          [ 0.1880, -0.1938,  0.0634, -0.0011,  0.1939],\n",
      "          [-0.1753, -0.0836, -0.0095, -0.0950,  0.0718],\n",
      "          [-0.1677,  0.0483, -0.0754, -0.1180,  0.1325]]],\n",
      "\n",
      "\n",
      "        [[[-0.0389,  0.0850,  0.1002,  0.0803, -0.0678],\n",
      "          [-0.0012, -0.0973,  0.1481, -0.1978,  0.0394],\n",
      "          [ 0.0452, -0.1200, -0.1892,  0.0535, -0.1707],\n",
      "          [-0.1268, -0.1821,  0.1644, -0.1297,  0.1621],\n",
      "          [ 0.0773,  0.1200, -0.1662,  0.1453, -0.1907]]],\n",
      "\n",
      "\n",
      "        [[[ 0.1710, -0.1499, -0.0900,  0.0624, -0.0526],\n",
      "          [-0.1082, -0.1940,  0.1945, -0.0005, -0.1328],\n",
      "          [-0.1162,  0.0545,  0.1169, -0.0382, -0.1447],\n",
      "          [-0.1772,  0.0337, -0.0670, -0.0399, -0.1064],\n",
      "          [ 0.0805, -0.1185, -0.0093, -0.1646, -0.1549]]],\n",
      "\n",
      "\n",
      "        [[[ 0.0635, -0.0247, -0.1761, -0.0405,  0.0228],\n",
      "          [ 0.1063,  0.0570, -0.1711, -0.1909,  0.0609],\n",
      "          [-0.1749, -0.0078,  0.1457, -0.1987, -0.0041],\n",
      "          [-0.1288,  0.1180,  0.0469, -0.0080,  0.0650],\n",
      "          [-0.0827,  0.0244, -0.0675, -0.0036,  0.1313]]],\n",
      "\n",
      "\n",
      "        [[[-0.0551, -0.1943, -0.0313,  0.1480,  0.1508],\n",
      "          [-0.0197, -0.0063, -0.1763, -0.0735,  0.1892],\n",
      "          [ 0.0741,  0.0326,  0.0845, -0.1924,  0.0312],\n",
      "          [ 0.1905, -0.0669,  0.1125, -0.0103,  0.0698],\n",
      "          [ 0.0135, -0.0527,  0.0658,  0.0037, -0.0022]]],\n",
      "\n",
      "\n",
      "        [[[-0.0085, -0.0787,  0.0752, -0.1618,  0.1320],\n",
      "          [-0.1792,  0.1377,  0.1183,  0.0880,  0.0264],\n",
      "          [ 0.1846,  0.1706,  0.0692, -0.0134, -0.0367],\n",
      "          [ 0.0621, -0.0141,  0.0881,  0.0068,  0.0347],\n",
      "          [ 0.1853, -0.1202, -0.1676, -0.0802, -0.1891]]],\n",
      "\n",
      "\n",
      "        [[[-0.1379,  0.1793,  0.0039, -0.0511, -0.0398],\n",
      "          [ 0.0728,  0.1028, -0.0794,  0.1364, -0.1630],\n",
      "          [-0.1299, -0.1923,  0.1624, -0.0405, -0.1941],\n",
      "          [ 0.0253, -0.1997, -0.0739,  0.1608,  0.0794],\n",
      "          [-0.1911,  0.0930,  0.1634, -0.0699, -0.1840]]],\n",
      "\n",
      "\n",
      "        [[[-0.1890,  0.1594,  0.0373,  0.1802,  0.0745],\n",
      "          [ 0.0918, -0.1553,  0.0871,  0.1849, -0.0708],\n",
      "          [ 0.0570,  0.0405,  0.1404,  0.0922,  0.1076],\n",
      "          [-0.0423, -0.1948,  0.1173,  0.0939,  0.1913],\n",
      "          [-0.1995, -0.0384, -0.1239, -0.1519,  0.0072]]],\n",
      "\n",
      "\n",
      "        [[[ 0.1811,  0.1100,  0.1045, -0.0407, -0.0794],\n",
      "          [ 0.0100, -0.1992,  0.0204, -0.0283,  0.0177],\n",
      "          [-0.1166,  0.1348, -0.0436,  0.0723,  0.1629],\n",
      "          [ 0.1171, -0.1377,  0.1442,  0.1120, -0.1094],\n",
      "          [ 0.1587, -0.1768, -0.1699, -0.1179,  0.1718]]],\n",
      "\n",
      "\n",
      "        [[[ 0.0905, -0.1151, -0.1341, -0.0729, -0.1523],\n",
      "          [-0.0179, -0.1550,  0.0420,  0.0267,  0.0890],\n",
      "          [ 0.0023,  0.1532, -0.0267,  0.0708, -0.1179],\n",
      "          [-0.0181, -0.0935,  0.1241,  0.1300,  0.1779],\n",
      "          [-0.0637,  0.0686,  0.1964, -0.0978,  0.0032]]],\n",
      "\n",
      "\n",
      "        [[[-0.0889, -0.1680,  0.0356, -0.1350, -0.0685],\n",
      "          [ 0.0723,  0.0337,  0.0773,  0.1404, -0.0008],\n",
      "          [ 0.1499,  0.1377, -0.0719,  0.0659,  0.0908],\n",
      "          [ 0.0429,  0.1549,  0.1228, -0.1471, -0.1368],\n",
      "          [-0.1657,  0.0767, -0.0789, -0.0717, -0.1320]]],\n",
      "\n",
      "\n",
      "        [[[-0.1685, -0.1295, -0.0085,  0.0068,  0.1902],\n",
      "          [-0.0860,  0.1088,  0.0579,  0.1141, -0.0294],\n",
      "          [-0.1827, -0.0337,  0.0905,  0.0049, -0.1530],\n",
      "          [ 0.1571, -0.0407,  0.1338,  0.0383, -0.0616],\n",
      "          [-0.1196,  0.1261, -0.1958,  0.0695,  0.0199]]],\n",
      "\n",
      "\n",
      "        [[[ 0.0245,  0.0244, -0.1110, -0.0650, -0.0299],\n",
      "          [-0.0580,  0.0526, -0.0510,  0.0266,  0.0297],\n",
      "          [ 0.0664, -0.1802, -0.0531, -0.0225, -0.0731],\n",
      "          [-0.0472,  0.1674, -0.1483,  0.1473,  0.1867],\n",
      "          [ 0.1662, -0.1622,  0.1917,  0.1820, -0.1582]]],\n",
      "\n",
      "\n",
      "        [[[ 0.1750,  0.0005,  0.1119, -0.0203,  0.0674],\n",
      "          [ 0.1451,  0.1296, -0.1484,  0.0500, -0.0162],\n",
      "          [-0.0178, -0.1783,  0.0757, -0.0596, -0.1128],\n",
      "          [ 0.0951, -0.1109, -0.1264,  0.0155, -0.1930],\n",
      "          [-0.0554,  0.0526, -0.1338,  0.0716, -0.0219]]],\n",
      "\n",
      "\n",
      "        [[[-0.1088,  0.0499, -0.0466,  0.1728,  0.1533],\n",
      "          [ 0.0944,  0.1830, -0.0678, -0.1477, -0.1925],\n",
      "          [ 0.1730,  0.1721, -0.1199,  0.0387, -0.0337],\n",
      "          [-0.0839,  0.0182,  0.1271,  0.1466,  0.0538],\n",
      "          [-0.0024,  0.1465,  0.0423,  0.1192, -0.0803]]]], device='cuda:0')\n",
      "torch.Size([20, 1, 5, 5])\n"
     ]
    }
   ],
   "source": [
    "# weigth는 detach()를 통해 꺼내줘야 numpy() 변환이 가능함\n",
    "\n",
    "weight = weight.detach()\n",
    "print(weight)\n",
    "print(weight.shape)"
   ]
  },
  {
   "cell_type": "code",
   "execution_count": 20,
   "metadata": {},
   "outputs": [
    {
     "data": {
      "text/plain": [
       "(20, 1, 5, 5)"
      ]
     },
     "execution_count": 20,
     "metadata": {},
     "output_type": "execute_result"
    }
   ],
   "source": [
    "weight = weight.cpu().numpy()\n",
    "weight.shape"
   ]
  },
  {
   "cell_type": "code",
   "execution_count": 21,
   "metadata": {},
   "outputs": [
    {
     "data": {
      "text/plain": [
       "array([[-0.10878032,  0.04988471, -0.04664984,  0.17279984,  0.15332203],\n",
       "       [ 0.09442021,  0.18301012, -0.06783442, -0.14768979, -0.19253929],\n",
       "       [ 0.17299159,  0.17213134, -0.1198756 ,  0.03866239, -0.03366597],\n",
       "       [-0.08394468,  0.01823242,  0.1270666 ,  0.14662252,  0.05383615],\n",
       "       [-0.00235358,  0.14649548,  0.0422972 ,  0.11922391, -0.08030381]],\n",
       "      dtype=float32)"
      ]
     },
     "execution_count": 21,
     "metadata": {},
     "output_type": "execute_result"
    }
   ],
   "source": [
    "weight[19,0,:,:]"
   ]
  },
  {
   "cell_type": "code",
   "execution_count": 22,
   "metadata": {},
   "outputs": [
    {
     "data": {
      "image/png": "[encoded data removed]",
      "text/plain": [
       "<Figure size 640x480 with 2 Axes>"
      ]
     },
     "metadata": {},
     "output_type": "display_data"
    }
   ],
   "source": [
    "plt.imshow(weight[19,0,:,:], 'gray')\n",
    "plt.colorbar()\n",
    "plt.show()"
   ]
  },
  {
   "cell_type": "code",
   "execution_count": 23,
   "metadata": {},
   "outputs": [
    {
     "name": "stdout",
     "output_type": "stream",
     "text": [
      "torch.Size([8, 1, 28, 28])\n",
      "torch.Size([1, 28, 28])\n"
     ]
    }
   ],
   "source": [
    "print(images.shape)\n",
    "print(images[0].size())"
   ]
  },
  {
   "cell_type": "code",
   "execution_count": 24,
   "metadata": {},
   "outputs": [
    {
     "name": "stdout",
     "output_type": "stream",
     "text": [
      "torch.Size([28, 28])\n"
     ]
    }
   ],
   "source": [
    "input_image = torch.squeeze(images[0])\n",
    "print(input_image.size())"
   ]
  },
  {
   "cell_type": "code",
   "execution_count": 29,
   "metadata": {},
   "outputs": [
    {
     "name": "stdout",
     "output_type": "stream",
     "text": [
      "torch.Size([1, 1, 28, 28])\n"
     ]
    },
    {
     "data": {
      "text/plain": [
       "(1, 20, 24, 24)"
      ]
     },
     "execution_count": 29,
     "metadata": {},
     "output_type": "execute_result"
    }
   ],
   "source": [
    "input_data = torch.unsqueeze(images[0], dim=0)\n",
    "print(input_data.size())\n",
    "\n",
    "layer = layer.cpu()\n",
    "input_data = input_data.cpu()\n",
    "output_data = layer(input_data)\n",
    "output = output_data.data\n",
    "output_arr = output.numpy()\n",
    "output_arr.shape"
   ]
  },
  {
   "cell_type": "code",
   "execution_count": 30,
   "metadata": {},
   "outputs": [
    {
     "data": {
      "image/png": "[encoded data removed]",
      "text/plain": [
       "<Figure size 1500x3000 with 3 Axes>"
      ]
     },
     "metadata": {},
     "output_type": "display_data"
    }
   ],
   "source": [
    "plt.figure(figsize=(15,30))\n",
    "\n",
    "plt.subplot(131)\n",
    "plt.title('input')\n",
    "plt.imshow(input_image, 'gray')\n",
    "\n",
    "plt.subplot(132)\n",
    "plt.title('Weight')\n",
    "plt.imshow(weight[0, 0, :, :], 'jet')\n",
    "\n",
    "plt.subplot(133)\n",
    "plt.title('Output')\n",
    "plt.imshow(output_arr[0,0,:,:], 'gray')\n",
    "plt.show()"
   ]
  },
  {
   "cell_type": "markdown",
   "metadata": {},
   "source": [
    "##### Pooling Layer\n",
    "\n",
    "- F.max_pool2d\n",
    "    - stride\n",
    "    - kernel_size\n",
    "- **<span style=\"color:pink\"> torch.nn.MaxPool2d </span>** 도 많이 사용"
   ]
  },
  {
   "cell_type": "code",
   "execution_count": 31,
   "metadata": {},
   "outputs": [],
   "source": [
    "import torch.nn.functional as F"
   ]
  },
  {
   "cell_type": "code",
   "execution_count": 32,
   "metadata": {},
   "outputs": [
    {
     "data": {
      "text/plain": [
       "torch.Size([1, 20, 12, 12])"
      ]
     },
     "execution_count": 32,
     "metadata": {},
     "output_type": "execute_result"
    }
   ],
   "source": [
    "pool = F.max_pool2d(output, 2,2)\n",
    "pool.shape"
   ]
  },
  {
   "cell_type": "code",
   "execution_count": 33,
   "metadata": {},
   "outputs": [
    {
     "data": {
      "text/plain": [
       "(1, 20, 12, 12)"
      ]
     },
     "execution_count": 33,
     "metadata": {},
     "output_type": "execute_result"
    }
   ],
   "source": [
    "# MaxPool Layer는 weight가 없기 때문에 바로 numpy()로 변환이 가능함\n",
    "pool_arr = pool.numpy()\n",
    "pool_arr.shape"
   ]
  },
  {
   "cell_type": "code",
   "execution_count": 36,
   "metadata": {},
   "outputs": [
    {
     "data": {
      "image/png": "[encoded data removed]",
      "text/plain": [
       "<Figure size 1000x1500 with 2 Axes>"
      ]
     },
     "metadata": {},
     "output_type": "display_data"
    }
   ],
   "source": [
    "plt.figure(figsize=(10,15))\n",
    "\n",
    "plt.subplot(121)\n",
    "plt.title('input')\n",
    "plt.imshow(input_image, 'gray')\n",
    "\n",
    "plt.subplot(122)\n",
    "plt.title('Output')\n",
    "plt.imshow(pool_arr[0, 0, :, :], 'gray')\n",
    "\n",
    "plt.show()"
   ]
  },
  {
   "cell_type": "markdown",
   "metadata": {},
   "source": [
    "#### Linear Layer\n",
    "\n",
    "- 1d 만 가능하므로 .view()를 통해 1d로 펼쳐줘야함"
   ]
  },
  {
   "cell_type": "code",
   "execution_count": 37,
   "metadata": {},
   "outputs": [
    {
     "data": {
      "text/plain": [
       "torch.Size([1, 784])"
      ]
     },
     "execution_count": 37,
     "metadata": {},
     "output_type": "execute_result"
    }
   ],
   "source": [
    "flatten = input_image.view(1, 28*28)\n",
    "flatten.shape"
   ]
  },
  {
   "cell_type": "code",
   "execution_count": 38,
   "metadata": {},
   "outputs": [
    {
     "data": {
      "text/plain": [
       "torch.Size([1, 19])"
      ]
     },
     "execution_count": 38,
     "metadata": {},
     "output_type": "execute_result"
    }
   ],
   "source": [
    "lin = nn.Linear(784, 19)(flatten)\n",
    "lin.shape"
   ]
  },
  {
   "cell_type": "code",
   "execution_count": 39,
   "metadata": {},
   "outputs": [
    {
     "data": {
      "text/plain": [
       "tensor([[ 0.1411,  0.2715, -0.1014,  0.0834,  0.0324, -0.4931, -0.0366, -0.1677,\n",
       "         -0.1638,  0.1630, -0.3276, -0.3832,  0.2046, -0.1656,  0.5396, -0.2370,\n",
       "         -0.0904,  0.4671,  0.2302]], grad_fn=<AddmmBackward0>)"
      ]
     },
     "execution_count": 39,
     "metadata": {},
     "output_type": "execute_result"
    }
   ],
   "source": [
    "lin"
   ]
  },
  {
   "cell_type": "code",
   "execution_count": 40,
   "metadata": {},
   "outputs": [
    {
     "data": {
      "image/png": "[encoded data removed]",
      "text/plain": [
       "<Figure size 640x480 with 2 Axes>"
      ]
     },
     "metadata": {},
     "output_type": "display_data"
    }
   ],
   "source": [
    "plt.imshow(lin.detach().numpy(), 'jet')\n",
    "plt.colorbar()\n",
    "plt.show()"
   ]
  },
  {
   "cell_type": "markdown",
   "metadata": {},
   "source": [
    "#### Non-Linear Activations\n",
    "\n",
    "- F.softmax 와 같은 활성화 함수 등"
   ]
  },
  {
   "cell_type": "code",
   "execution_count": 41,
   "metadata": {},
   "outputs": [
    {
     "data": {
      "text/plain": [
       "tensor([[0.0947, 0.1375, 0.1374, 0.1586, 0.0732, 0.0892, 0.1047, 0.0550, 0.0846,\n",
       "         0.0649]])"
      ]
     },
     "execution_count": 41,
     "metadata": {},
     "output_type": "execute_result"
    }
   ],
   "source": [
    "with torch.no_grad():\n",
    "    flatten = input_image.view(1,28*28)\n",
    "    lin = nn.Linear(784, 10)(flatten)\n",
    "    softmax = F.softmax(lin, dim=1)\n",
    "\n",
    "softmax"
   ]
  },
  {
   "cell_type": "code",
   "execution_count": 42,
   "metadata": {},
   "outputs": [
    {
     "data": {
      "text/plain": [
       "1.0"
      ]
     },
     "execution_count": 42,
     "metadata": {},
     "output_type": "execute_result"
    }
   ],
   "source": [
    "np.sum(softmax.numpy())"
   ]
  },
  {
   "cell_type": "code",
   "execution_count": 46,
   "metadata": {},
   "outputs": [],
   "source": [
    "device = 'cuda' if torch.cuda.is_available() else 'cpu'"
   ]
  },
  {
   "cell_type": "code",
   "execution_count": 48,
   "metadata": {},
   "outputs": [
    {
     "data": {
      "text/plain": [
       "torch.Size([4, 3, 28, 28])"
      ]
     },
     "execution_count": 48,
     "metadata": {},
     "output_type": "execute_result"
    }
   ],
   "source": [
    "# ReLU\n",
    "\n",
    "inputs = torch.randn(4, 3, 28, 28).to(device)\n",
    "inputs.shape"
   ]
  },
  {
   "cell_type": "code",
   "execution_count": 49,
   "metadata": {},
   "outputs": [
    {
     "data": {
      "text/plain": [
       "torch.Size([4, 20, 24, 24])"
      ]
     },
     "execution_count": 49,
     "metadata": {},
     "output_type": "execute_result"
    }
   ],
   "source": [
    "layer = nn.Conv2d(3, 20, 5, 1).to(device)\n",
    "output = F.relu(layer(inputs))\n",
    "output.shape"
   ]
  },
  {
   "cell_type": "markdown",
   "metadata": {},
   "source": [
    "### Define Model\n",
    "\n",
    "- nn.Module 상속 클래스 정의\n",
    "    - **<span style=\"color:pink\">nn.Module을 상속</span>** 받는 클래스 정의\n",
    "    - **<span style=\"color:pink\">__init__()</span>** : 모델에서 사용될 모듈과 활성화 함수 등을 정의\n",
    "    - **<span style=\"color:pink\">forward()</span>** : 모델에서 실행되어야 하는 연산 정의"
   ]
  },
  {
   "cell_type": "code",
   "execution_count": 53,
   "metadata": {},
   "outputs": [],
   "source": [
    "class Model(nn.Module):\n",
    "    def __init__(self, inputs):\n",
    "        super(Model, self).__init__()\n",
    "        self.layer = nn.Linear(inputs, 1)\n",
    "        self.activation = nn.Sigmoid()\n",
    "\n",
    "    def forward(self, x):\n",
    "        x = self.layer(x)\n",
    "        x = self.activation(x)\n",
    "        return x"
   ]
  },
  {
   "cell_type": "code",
   "execution_count": 55,
   "metadata": {},
   "outputs": [
    {
     "name": "stdout",
     "output_type": "stream",
     "text": [
      "[Linear(in_features=1, out_features=1, bias=True), Sigmoid()]\n",
      "[Model(\n",
      "  (layer): Linear(in_features=1, out_features=1, bias=True)\n",
      "  (activation): Sigmoid()\n",
      "), Linear(in_features=1, out_features=1, bias=True), Sigmoid()]\n"
     ]
    }
   ],
   "source": [
    "model = Model(1)\n",
    "print(list(model.children()))\n",
    "print(list(model.modules()))"
   ]
  },
  {
   "cell_type": "markdown",
   "metadata": {},
   "source": [
    "### nn.Sequential을 이용한 신경망 정의\n",
    "- nn.Sequential 객체로 그 안에 각 모듈을 순차적으로 실행\n",
    "- __init__() 에서 사용할 네트워크 모델들을 nn.Sequential로 정의 가능\n",
    "- forward()에서 실행되어야 할 계산을 가독성 높게 작성 가능"
   ]
  },
  {
   "cell_type": "code",
   "execution_count": 56,
   "metadata": {},
   "outputs": [],
   "source": [
    "class Model(nn.Module):\n",
    "    def __init__(self):\n",
    "        super(Model, self).__init__()\n",
    "        self.layer1 = nn.Sequential(\n",
    "            nn.Conv2d(in_channels=3, out_channels=64, kernel_size=5),\n",
    "            nn.ReLU(inplace=True),\n",
    "            nn.MaxPool2d(2)\n",
    "        )\n",
    "\n",
    "        self.layer2 = nn.Sequential(\n",
    "            nn.Conv2d(in_channels=64, out_channels=30, kernel_size=5),\n",
    "            nn.ReLU(inplace=True),\n",
    "            nn.MaxPool2d(2)\n",
    "        )\n",
    "\n",
    "        self.layer3 = nn.Sequential(\n",
    "            nn.Linear(in_features=30*5*5, out_features=10, bias=True),\n",
    "            nn.ReLU(inplace=True)\n",
    "        )\n",
    "\n",
    "        def forward(self, x):\n",
    "            x = self.layer1(x)\n",
    "            x = self.layer2(x)\n",
    "            x = x.view(x.shape[0],-1)\n",
    "            x = self.layer3(x)\n",
    "            return x"
   ]
  },
  {
   "cell_type": "code",
   "execution_count": 57,
   "metadata": {},
   "outputs": [
    {
     "name": "stdout",
     "output_type": "stream",
     "text": [
      "[Sequential(\n",
      "  (0): Conv2d(3, 64, kernel_size=(5, 5), stride=(1, 1))\n",
      "  (1): ReLU(inplace=True)\n",
      "  (2): MaxPool2d(kernel_size=2, stride=2, padding=0, dilation=1, ceil_mode=False)\n",
      "), Sequential(\n",
      "  (0): Conv2d(64, 30, kernel_size=(5, 5), stride=(1, 1))\n",
      "  (1): ReLU(inplace=True)\n",
      "  (2): MaxPool2d(kernel_size=2, stride=2, padding=0, dilation=1, ceil_mode=False)\n",
      "), Sequential(\n",
      "  (0): Linear(in_features=750, out_features=10, bias=True)\n",
      "  (1): ReLU(inplace=True)\n",
      ")]\n",
      "[Model(\n",
      "  (layer1): Sequential(\n",
      "    (0): Conv2d(3, 64, kernel_size=(5, 5), stride=(1, 1))\n",
      "    (1): ReLU(inplace=True)\n",
      "    (2): MaxPool2d(kernel_size=2, stride=2, padding=0, dilation=1, ceil_mode=False)\n",
      "  )\n",
      "  (layer2): Sequential(\n",
      "    (0): Conv2d(64, 30, kernel_size=(5, 5), stride=(1, 1))\n",
      "    (1): ReLU(inplace=True)\n",
      "    (2): MaxPool2d(kernel_size=2, stride=2, padding=0, dilation=1, ceil_mode=False)\n",
      "  )\n",
      "  (layer3): Sequential(\n",
      "    (0): Linear(in_features=750, out_features=10, bias=True)\n",
      "    (1): ReLU(inplace=True)\n",
      "  )\n",
      "), Sequential(\n",
      "  (0): Conv2d(3, 64, kernel_size=(5, 5), stride=(1, 1))\n",
      "  (1): ReLU(inplace=True)\n",
      "  (2): MaxPool2d(kernel_size=2, stride=2, padding=0, dilation=1, ceil_mode=False)\n",
      "), Conv2d(3, 64, kernel_size=(5, 5), stride=(1, 1)), ReLU(inplace=True), MaxPool2d(kernel_size=2, stride=2, padding=0, dilation=1, ceil_mode=False), Sequential(\n",
      "  (0): Conv2d(64, 30, kernel_size=(5, 5), stride=(1, 1))\n",
      "  (1): ReLU(inplace=True)\n",
      "  (2): MaxPool2d(kernel_size=2, stride=2, padding=0, dilation=1, ceil_mode=False)\n",
      "), Conv2d(64, 30, kernel_size=(5, 5), stride=(1, 1)), ReLU(inplace=True), MaxPool2d(kernel_size=2, stride=2, padding=0, dilation=1, ceil_mode=False), Sequential(\n",
      "  (0): Linear(in_features=750, out_features=10, bias=True)\n",
      "  (1): ReLU(inplace=True)\n",
      "), Linear(in_features=750, out_features=10, bias=True), ReLU(inplace=True)]\n"
     ]
    }
   ],
   "source": [
    "model = Model()\n",
    "print(list(model.children()))\n",
    "print(list(model.modules()))"
   ]
  },
  {
   "cell_type": "markdown",
   "metadata": {},
   "source": [
    "## Pytorch Finetunning Models\n",
    "\n",
    "## Loss Function\n",
    "\n",
    "- 예측 값과 실제 값 사이의 오차 측정\n",
    "- 학습이 진행되며서 해당 과정이 얼마나 잘 되고 있는지 나타내는 지표\n",
    "- 모델이 훈련되는 동안 최소화될 값으로 주어진 문제에 대한 성공 지표\n",
    "- 손실 함수에 따른 결과를 통해 학습 파라미터 조정\n",
    "- 최적화 이론에서 최소화 하고자 하는 함수\n",
    "- 미분 가능한 함수 사용\n",
    "- 파이토치 주요 손실 함수\n",
    "    - **<span style=\"color:pink\">torch.nn.BCELoss</span>** : 이진분류\n",
    "    - **<span style=\"color:pink\">torch.nn.CrossEntropyLoss</span>** : 다중 클래스 분류\n",
    "    - **<span style=\"color:pink\">torch.nn.MSELoss</span>** : 회귀 모델에서 사용"
   ]
  },
  {
   "cell_type": "markdown",
   "metadata": {},
   "source": [
    "## Optimizer\n",
    "\n",
    "- 손실 함수를 기반으로 모델이 어떻게 업데이트 되어야 하는지 결정 (특정 종류의 확률적 경사 하강법 구현)\n",
    "- optimizer는 step()을 통해 전달받은 파라미터를 모델에 업데이트\n",
    "- 모든 옵티마이저의 기본으로 torch.optim.Optimizer(params, defaults) 클래스 사용\n",
    "- zero_grad() 를 이용해 옵티마이저에 사용된 파라미터들의 기울기를 0으로 설정\n",
    "- torch.optim.lr_scheduler를 이용해 epochs에 따라 learning rate 조절\n",
    "- Pytorch 주요 Optimizer : **<span style =\"color:pink\"> optim.Adadelta, optim.Adagrade, optim.Adam, optim.RMSprop, optim.SGD </span>**"
   ]
  },
  {
   "cell_type": "markdown",
   "metadata": {},
   "source": [
    "## Learning rate scheduler\n",
    "\n",
    "- 학습시 특정 조건에 따라 학습률을 조정하여 최적화 진행\n",
    "- 일정 횟수 이상이 되면 학습률을 감소(decay) 시키거나 전역 최소점 (global minimun) 근처에 가면 학습률을 줄이는 등\n",
    "- Pytorch의 Learning Rate Scheduler 종류\n",
    "    - optim.lr_scheduler.LambdaLR : 람다 함수를 이용해 그 결과를 학습률로 설정\n",
    "    - optim.lr_scheduler.StepLR : 단계 마다 학습률을 감마 비율만큼 감소\n",
    "    - optim.lr_scheduler.MultiStepLR : StepLR 과 비슷하지만 특정 단계가 아니라 지정된 에포크에만 감마 비율로 감소\n",
    "    - optim.lr_scheduler.ExponentialLR : Epochs 마다 이전 학습률의 감마만큼 곱함\n",
    "    - optim.lr_scheduler.CosineAnnealingLR : 학습률을 코사인 함수의 형태처럼 변화시켜 학습률이 커지기도 하고 작아지고도 함.\n",
    "    - optim.lr_scheduler.ReduceLROnPlateau : 학습이 잘되는지 안되는지에 따라 동적으로 학습률 변화"
   ]
  },
  {
   "cell_type": "code",
   "execution_count": 1,
   "metadata": {},
   "outputs": [
    {
     "name": "stdout",
     "output_type": "stream",
     "text": [
      "Requirement already satisfied: torchmetrics in c:\\users\\jjong\\anaconda3\\envs\\jjong\\lib\\site-packages (1.6.1)\n",
      "Requirement already satisfied: numpy>1.20.0 in c:\\users\\jjong\\anaconda3\\envs\\jjong\\lib\\site-packages (from torchmetrics) (1.24.3)\n",
      "Requirement already satisfied: packaging>17.1 in c:\\users\\jjong\\anaconda3\\envs\\jjong\\lib\\site-packages (from torchmetrics) (23.1)\n",
      "Requirement already satisfied: torch>=2.0.0 in c:\\users\\jjong\\anaconda3\\envs\\jjong\\lib\\site-packages (from torchmetrics) (2.1.2)\n",
      "Requirement already satisfied: lightning-utilities>=0.8.0 in c:\\users\\jjong\\anaconda3\\envs\\jjong\\lib\\site-packages (from torchmetrics) (0.11.9)\n",
      "Requirement already satisfied: setuptools in c:\\users\\jjong\\anaconda3\\envs\\jjong\\lib\\site-packages (from lightning-utilities>=0.8.0->torchmetrics) (68.0.0)\n",
      "Requirement already satisfied: typing-extensions in c:\\users\\jjong\\anaconda3\\envs\\jjong\\lib\\site-packages (from lightning-utilities>=0.8.0->torchmetrics) (4.9.0)\n",
      "Requirement already satisfied: filelock in c:\\users\\jjong\\anaconda3\\envs\\jjong\\lib\\site-packages (from torch>=2.0.0->torchmetrics) (3.9.0)\n",
      "Requirement already satisfied: sympy in c:\\users\\jjong\\anaconda3\\envs\\jjong\\lib\\site-packages (from torch>=2.0.0->torchmetrics) (1.11.1)\n",
      "Requirement already satisfied: networkx in c:\\users\\jjong\\anaconda3\\envs\\jjong\\lib\\site-packages (from torch>=2.0.0->torchmetrics) (3.1)\n",
      "Requirement already satisfied: jinja2 in c:\\users\\jjong\\anaconda3\\envs\\jjong\\lib\\site-packages (from torch>=2.0.0->torchmetrics) (3.1.2)\n",
      "Requirement already satisfied: fsspec in c:\\users\\jjong\\anaconda3\\envs\\jjong\\lib\\site-packages (from torch>=2.0.0->torchmetrics) (2023.10.0)\n",
      "Requirement already satisfied: MarkupSafe>=2.0 in c:\\users\\jjong\\anaconda3\\envs\\jjong\\lib\\site-packages (from jinja2->torch>=2.0.0->torchmetrics) (2.1.1)\n",
      "Requirement already satisfied: mpmath>=0.19 in c:\\users\\jjong\\anaconda3\\envs\\jjong\\lib\\site-packages (from sympy->torch>=2.0.0->torchmetrics) (1.3.0)\n",
      "Note: you may need to restart the kernel to use updated packages.\n"
     ]
    }
   ],
   "source": [
    "%pip install torchmetrics"
   ]
  },
  {
   "cell_type": "code",
   "execution_count": 66,
   "metadata": {},
   "outputs": [
    {
     "name": "stdout",
     "output_type": "stream",
     "text": [
      "tensor([[0.1546, 0.2749, 0.2576, 0.2499, 0.0630],\n",
      "        [0.1279, 0.1891, 0.0407, 0.0752, 0.5672],\n",
      "        [0.1017, 0.1205, 0.2067, 0.3268, 0.2443],\n",
      "        [0.3643, 0.1274, 0.2049, 0.2799, 0.0235],\n",
      "        [0.3359, 0.0495, 0.3531, 0.1312, 0.1303],\n",
      "        [0.0573, 0.2994, 0.4262, 0.1283, 0.0888],\n",
      "        [0.0812, 0.4369, 0.3180, 0.0229, 0.1410],\n",
      "        [0.1520, 0.2997, 0.4661, 0.0387, 0.0434],\n",
      "        [0.0298, 0.1006, 0.2907, 0.1959, 0.3830],\n",
      "        [0.1925, 0.1621, 0.5564, 0.0358, 0.0532]]) tensor([4, 0, 3, 3, 4, 1, 1, 0, 1, 2])\n",
      "tensor(0.3000)\n"
     ]
    }
   ],
   "source": [
    "import torchmetrics\n",
    "\n",
    "preds = torch.randn(10, 5).softmax(dim=-1)\n",
    "target = torch.randint(5, (10, ))\n",
    "print(preds, target)\n",
    "\n",
    "acc = torchmetrics.functional.accuracy(preds, target, task=\"multiclass\", num_classes=5)\n",
    "print(acc)"
   ]
  },
  {
   "cell_type": "code",
   "execution_count": 74,
   "metadata": {},
   "outputs": [
    {
     "name": "stdout",
     "output_type": "stream",
     "text": [
      "tensor(0.4000)\n",
      "tensor(0.2000)\n",
      "tensor(0.1000)\n",
      "tensor(0.3000)\n",
      "tensor(0.1000)\n",
      "tensor(0.1000)\n",
      "tensor(0.2000)\n",
      "tensor(0.2000)\n",
      "tensor(0.1000)\n",
      "tensor(0.2000)\n",
      "tensor(0.2000)\n"
     ]
    }
   ],
   "source": [
    "#metric = torchmetrics.functional.accuracy()\n",
    "\n",
    "n_batches = 10\n",
    "for i in range(n_batches):\n",
    "    preds = torch.randn(10, 5).softmax(dim=-1)\n",
    "    target = torch.randint(5, (10, ))\n",
    "    acc = torchmetrics.functional.accuracy(preds, target, task=\"multiclass\", num_classes=5)\n",
    "    print(acc)\n",
    "\n",
    "accuracy = torchmetrics.Accuracy(task=\"multiclass\", num_classes=5)\n",
    "\n",
    "accuracy.update(preds, target)\n",
    "acc = accuracy.compute()\n",
    "print(acc)\n",
    "    "
   ]
  },
  {
   "cell_type": "markdown",
   "metadata": {},
   "source": [
    "## Linear Regression Model"
   ]
  },
  {
   "cell_type": "code",
   "execution_count": 81,
   "metadata": {},
   "outputs": [
    {
     "data": {
      "image/png": "[encoded data removed]",
      "text/plain": [
       "<Figure size 640x480 with 1 Axes>"
      ]
     },
     "metadata": {},
     "output_type": "display_data"
    }
   ],
   "source": [
    "X = torch.randn(200, 1) * 10\n",
    "y = X + 3 * torch.randn(200, 1)\n",
    "plt.scatter(X.numpy(), y.numpy())\n",
    "plt.ylabel('y')\n",
    "plt.xlabel('x')\n",
    "plt.grid()\n",
    "plt.show()"
   ]
  },
  {
   "cell_type": "markdown",
   "metadata": {},
   "source": [
    "## Define Model & HyperParameter"
   ]
  },
  {
   "cell_type": "code",
   "execution_count": 77,
   "metadata": {},
   "outputs": [],
   "source": [
    "class LinearRegressionModel(nn.Module):\n",
    "    def __init__(self):\n",
    "        super(LinearRegressionModel, self).__init__()\n",
    "        self.linear = nn.Linear(1,1)\n",
    "\n",
    "    def forward(self, x):\n",
    "        pred = self.linear(x)\n",
    "        return pred"
   ]
  },
  {
   "cell_type": "code",
   "execution_count": 78,
   "metadata": {},
   "outputs": [
    {
     "name": "stdout",
     "output_type": "stream",
     "text": [
      "LinearRegressionModel(\n",
      "  (linear): Linear(in_features=1, out_features=1, bias=True)\n",
      ")\n",
      "[Parameter containing:\n",
      "tensor([[-0.2079]], requires_grad=True), Parameter containing:\n",
      "tensor([0.6557], requires_grad=True)]\n"
     ]
    }
   ],
   "source": [
    "model = LinearRegressionModel()\n",
    "print(model)\n",
    "print(list(model.parameters()))"
   ]
  },
  {
   "cell_type": "code",
   "execution_count": 80,
   "metadata": {},
   "outputs": [
    {
     "data": {
      "image/png": "[encoded data removed]",
      "text/plain": [
       "<Figure size 640x480 with 1 Axes>"
      ]
     },
     "metadata": {},
     "output_type": "display_data"
    }
   ],
   "source": [
    "w, b = model.parameters()\n",
    "\n",
    "w1, b1 = w[0][0].item(), b[0].item()\n",
    "x1 = np.array([-30,30])\n",
    "y1 = w1 * x1 + b1\n",
    "\n",
    "plt.plot(x1, y1, 'r')\n",
    "plt.scatter(X, y)\n",
    "plt.grid()\n",
    "plt.show()"
   ]
  },
  {
   "cell_type": "code",
   "execution_count": 82,
   "metadata": {},
   "outputs": [],
   "source": [
    "import torch.optim as optim"
   ]
  },
  {
   "cell_type": "code",
   "execution_count": 83,
   "metadata": {},
   "outputs": [],
   "source": [
    "# Loss Function and Optimizer\n",
    "\n",
    "criterion = nn.MSELoss()\n",
    "optimizer = optim.SGD(model.parameters(), lr=1e-3)"
   ]
  },
  {
   "cell_type": "code",
   "execution_count": 84,
   "metadata": {},
   "outputs": [
    {
     "data": {
      "text/plain": [
       "SGD (\n",
       "Parameter Group 0\n",
       "    dampening: 0\n",
       "    differentiable: False\n",
       "    foreach: None\n",
       "    lr: 0.001\n",
       "    maximize: False\n",
       "    momentum: 0\n",
       "    nesterov: False\n",
       "    weight_decay: 0\n",
       ")"
      ]
     },
     "execution_count": 84,
     "metadata": {},
     "output_type": "execute_result"
    }
   ],
   "source": [
    "optimizer"
   ]
  },
  {
   "cell_type": "markdown",
   "metadata": {},
   "source": [
    "## Model Training"
   ]
  },
  {
   "cell_type": "code",
   "execution_count": 85,
   "metadata": {},
   "outputs": [],
   "source": [
    "epochs = 100\n",
    "losses = []\n",
    "\n",
    "for epoch in range(epochs):\n",
    "    optimizer.zero_grad()\n",
    "\n",
    "    y_pred = model(X)\n",
    "    loss = criterion(y_pred, y)\n",
    "    losses.append(loss.item())\n",
    "    loss.backward()\n",
    "\n",
    "    optimizer.step()"
   ]
  },
  {
   "cell_type": "code",
   "execution_count": 88,
   "metadata": {},
   "outputs": [
    {
     "data": {
      "image/png": "[encoded data removed]",
      "text/plain": [
       "<Figure size 640x480 with 1 Axes>"
      ]
     },
     "metadata": {},
     "output_type": "display_data"
    }
   ],
   "source": [
    "plt.plot(range(epochs), losses)\n",
    "plt.ylabel('Loss')\n",
    "plt.xlabel('Epoch')\n",
    "plt.show()"
   ]
  },
  {
   "cell_type": "code",
   "execution_count": 89,
   "metadata": {},
   "outputs": [
    {
     "data": {
      "image/png": "[encoded data removed]",
      "text/plain": [
       "<Figure size 640x480 with 1 Axes>"
      ]
     },
     "metadata": {},
     "output_type": "display_data"
    }
   ],
   "source": [
    "w1, b1 = w[0][0].item(), b[0].item()\n",
    "x1 = np.array([-30,30])\n",
    "y1 = w1 * x1 + b1\n",
    "\n",
    "plt.plot(x1, y1, 'r')\n",
    "plt.scatter(X, y)\n",
    "plt.grid()\n",
    "plt.show()"
   ]
  }
 ],
 "metadata": {
  "kernelspec": {
   "display_name": "jjong",
   "language": "python",
   "name": "python3"
  },
  "language_info": {
   "codemirror_mode": {
    "name": "ipython",
    "version": 3
   },
   "file_extension": ".py",
   "mimetype": "text/x-python",
   "name": "python",
   "nbconvert_exporter": "python",
   "pygments_lexer": "ipython3",
   "version": "3.11.5"
  }
 },
 "nbformat": 4,
 "nbformat_minor": 2
}
