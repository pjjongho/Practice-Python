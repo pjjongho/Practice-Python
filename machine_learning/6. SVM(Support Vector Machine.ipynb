{
 "cells": [
  {
   "cell_type": "markdown",
   "metadata": {},
   "source": [
    "#### **<span style=\"color:pink\">Support Vector Machine, SVM</span>**\n",
    "\n",
    "- Regressotion, Classification, Anomaly Detection 등에 사용되는 Superviesd Learning\n",
    "- 클래스 사이의 경계에 위치한 데이터 포인트를 Support Vector라고 함\n",
    "- 각 서포트 벡터가 클래스 사이의 결정 경계를 구분하는데 얼마나 중요한지를 학습\n",
    "- 각 서포트 벡터 사이의 마진이 가장 큰 방향으로 학습\n",
    "- 서포트 벡터 까지의 거리와 서포트 벡터의 중요도를 기반으로 예측 수행"
   ]
  },
  {
   "cell_type": "code",
   "execution_count": 1,
   "metadata": {},
   "outputs": [],
   "source": [
    "import multiprocessing\n",
    "import pandas as pd\n",
    "import numpy as np\n",
    "import matplotlib.pyplot as plt"
   ]
  },
  {
   "cell_type": "code",
   "execution_count": 2,
   "metadata": {},
   "outputs": [],
   "source": [
    "from sklearn.svm import SVR, SVC\n",
    "from sklearn.datasets import load_diabetes, load_breast_cancer, load_iris, load_wine\n",
    "from sklearn.pipeline import make_pipeline, Pipeline\n",
    "from sklearn.model_selection import train_test_split, cross_validate, GridSearchCV\n",
    "from sklearn.preprocessing import StandardScaler, MinMaxScaler\n",
    "from sklearn.manifold import TSNE"
   ]
  },
  {
   "cell_type": "code",
   "execution_count": 3,
   "metadata": {},
   "outputs": [
    {
     "name": "stdout",
     "output_type": "stream",
     "text": [
      "      crim    zn  indus  chas    nox     rm   age     dis  rad  tax  ptratio  \\\n",
      "0  0.00632  18.0   2.31     0  0.538  6.575  65.2  4.0900    1  296     15.3   \n",
      "1  0.02731   0.0   7.07     0  0.469  6.421  78.9  4.9671    2  242     17.8   \n",
      "2  0.02729   0.0   7.07     0  0.469  7.185  61.1  4.9671    2  242     17.8   \n",
      "3  0.03237   0.0   2.18     0  0.458  6.998  45.8  6.0622    3  222     18.7   \n",
      "4  0.06905   0.0   2.18     0  0.458  7.147  54.2  6.0622    3  222     18.7   \n",
      "\n",
      "        b  lstat  medv  \n",
      "0  396.90   4.98  24.0  \n",
      "1  396.90   9.14  21.6  \n",
      "2  392.83   4.03  34.7  \n",
      "3  394.63   2.94  33.4  \n",
      "4  396.90   5.33  36.2  \n"
     ]
    }
   ],
   "source": [
    "url = \"https://raw.githubusercontent.com/selva86/datasets/master/BostonHousing.csv\"\n",
    "boston_df = pd.read_csv(url)\n",
    "print(boston_df.head())"
   ]
  },
  {
   "cell_type": "markdown",
   "metadata": {},
   "source": [
    "##### SVM을 이용한 회귀 모델과 분류 모델"
   ]
  },
  {
   "cell_type": "markdown",
   "metadata": {},
   "source": [
    "##### <span style=\"color:pink\">SVM 을 사용한 회귀 모델 (SVR)</span>"
   ]
  },
  {
   "cell_type": "code",
   "execution_count": 6,
   "metadata": {},
   "outputs": [
    {
     "name": "stdout",
     "output_type": "stream",
     "text": [
      "Scores of Training Data : 0.17813783698679442\n",
      "Scores of Test Data : 0.2962129740673507\n"
     ]
    }
   ],
   "source": [
    "X_train, X_test, y_train, y_test = train_test_split(boston_df.drop('medv',axis=1), boston_df['medv'], random_state=42)\n",
    "\n",
    "model = SVR()\n",
    "model.fit(X_train, y_train)\n",
    "\n",
    "print(f'Scores of Training Data : {model.score(X_train, y_train)}')\n",
    "print(f'Scores of Test Data : {model.score(X_test, y_test)}')"
   ]
  },
  {
   "cell_type": "markdown",
   "metadata": {},
   "source": [
    "##### <span style=\"color:pink\">SVM 을 사용한 분류 모델 (SVC)</span>"
   ]
  },
  {
   "cell_type": "code",
   "execution_count": 7,
   "metadata": {},
   "outputs": [
    {
     "name": "stdout",
     "output_type": "stream",
     "text": [
      "Scores of Training Data : 0.9107981220657277\n",
      "Scores of Test Data : 0.951048951048951\n"
     ]
    }
   ],
   "source": [
    "X, y = load_breast_cancer(return_X_y=True)\n",
    "X_train, X_test, y_train, y_test = train_test_split(X, y, random_state=42)\n",
    "\n",
    "model = SVC()\n",
    "model.fit(X_train, y_train)\n",
    "\n",
    "print(f'Scores of Training Data : {model.score(X_train, y_train)}')\n",
    "print(f'Scores of Test Data : {model.score(X_test, y_test)}')"
   ]
  },
  {
   "cell_type": "markdown",
   "metadata": {},
   "source": [
    "##### 커널 기법\n",
    "\n",
    "- 입력 데이터를 고차원 공간에 사상해서 비선형 특징을 학습할 수 있도록 확장하는 방법\n",
    "- scikit-learn에서는 Linear, PolyNomial, RBF(Radial Basis Function) 등 다양한 커널 기법을 지원"
   ]
  },
  {
   "cell_type": "code",
   "execution_count": 9,
   "metadata": {},
   "outputs": [
    {
     "name": "stdout",
     "output_type": "stream",
     "text": [
      "Linear SVR Scores of Training Data : 0.711333407606611\n",
      "Linear SVR Scores of Test Data : 0.6020584261174697\n",
      "Polynomial SVR Scores of Training Data : 0.1810210386830461\n",
      "Polynomial SVR Scores of Test Data : 0.27921425986164905\n",
      "RBF SVR Scores of Training Data : 0.17813783698679442\n",
      "RBF SVR Scores of Test Data : 0.2962129740673507\n"
     ]
    }
   ],
   "source": [
    "########## Linear SVR \n",
    "\n",
    "X_train, X_test, y_train, y_test = train_test_split(boston_df.drop('medv',axis=1), boston_df['medv'], random_state=42)\n",
    "\n",
    "linear_svr = SVR(kernel='linear')\n",
    "linear_svr.fit(X_train, y_train)\n",
    "\n",
    "print(f'Linear SVR Scores of Training Data : {linear_svr.score(X_train, y_train)}')\n",
    "print(f'Linear SVR Scores of Test Data : {linear_svr.score(X_test, y_test)}')\n",
    "\n",
    "########## Polynomial SVR\n",
    "\n",
    "polynomial_svr = SVR(kernel='poly')\n",
    "polynomial_svr.fit(X_train, y_train)\n",
    "\n",
    "print(f'Polynomial SVR Scores of Training Data : {polynomial_svr.score(X_train, y_train)}')\n",
    "print(f'Polynomial SVR Scores of Test Data : {polynomial_svr.score(X_test, y_test)}')\n",
    "\n",
    "########## RBF SVR\n",
    "\n",
    "rbf_svr = SVR(kernel='rbf')\n",
    "rbf_svr.fit(X_train, y_train)\n",
    "\n",
    "print(f'RBF SVR Scores of Training Data : {rbf_svr.score(X_train, y_train)}')\n",
    "print(f'RBF SVR Scores of Test Data : {rbf_svr.score(X_test, y_test)}')"
   ]
  },
  {
   "cell_type": "markdown",
   "metadata": {},
   "source": [
    "##### SVC"
   ]
  },
  {
   "cell_type": "code",
   "execution_count": 10,
   "metadata": {},
   "outputs": [
    {
     "name": "stdout",
     "output_type": "stream",
     "text": [
      "Linear SVC Scores of Training Data : 0.9694835680751174\n",
      "Linear SVC Scores of Test Data : 0.958041958041958\n",
      "Polynomial SVC Scores of Training Data : 0.8990610328638498\n",
      "Polynomial SVC Scores of Test Data : 0.9440559440559441\n",
      "RBF SVC Scores of Training Data : 0.9107981220657277\n",
      "RBF SVC Scores of Test Data : 0.951048951048951\n"
     ]
    }
   ],
   "source": [
    "########## Linear SVR \n",
    "\n",
    "X, y = load_breast_cancer(return_X_y=True)\n",
    "X_train, X_test, y_train, y_test = train_test_split(X, y, random_state=42)\n",
    "\n",
    "linear_svc = SVC(kernel='linear')\n",
    "linear_svc.fit(X_train, y_train)\n",
    "\n",
    "print(f'Linear SVC Scores of Training Data : {linear_svc.score(X_train, y_train)}')\n",
    "print(f'Linear SVC Scores of Test Data : {linear_svc.score(X_test, y_test)}')\n",
    "\n",
    "########## Polynomial SVR\n",
    "\n",
    "polynomial_svc = SVC(kernel='poly')\n",
    "polynomial_svc.fit(X_train, y_train)\n",
    "\n",
    "print(f'Polynomial SVC Scores of Training Data : {polynomial_svc.score(X_train, y_train)}')\n",
    "print(f'Polynomial SVC Scores of Test Data : {polynomial_svc.score(X_test, y_test)}')\n",
    "\n",
    "########## RBF SVR\n",
    "\n",
    "rbf_svc = SVC(kernel='rbf')\n",
    "rbf_svc.fit(X_train, y_train)\n",
    "\n",
    "print(f'RBF SVC Scores of Training Data : {rbf_svc.score(X_train, y_train)}')\n",
    "print(f'RBF SVC Scores of Test Data : {rbf_svc.score(X_test, y_test)}')"
   ]
  },
  {
   "cell_type": "markdown",
   "metadata": {},
   "source": [
    "##### 매개변수 튜닝\n",
    "\n",
    "- SVM 은 사용하는 커널에 따라 다양한 매개변수 설정이 가능하다"
   ]
  },
  {
   "cell_type": "code",
   "execution_count": 11,
   "metadata": {},
   "outputs": [],
   "source": [
    "X, y = load_breast_cancer(return_X_y=True)\n",
    "X_train, X_test, y_train, y_test = train_test_split(X, y, random_state=42)"
   ]
  },
  {
   "cell_type": "code",
   "execution_count": 14,
   "metadata": {},
   "outputs": [
    {
     "name": "stdout",
     "output_type": "stream",
     "text": [
      "Kernel=poly, degree : 2 | C : 0.1 | gamma : auto\n",
      "Polynomial SVC Scores of Training Data : 0.9765258215962441\n",
      "Polynomial SVC Scores of Test Data : 0.958041958041958\n"
     ]
    }
   ],
   "source": [
    "polynomial_svc = SVC(kernel='poly', degree=2, C=0.1, gamma='auto')\n",
    "polynomial_svc.fit(X_train, y_train)\n",
    "\n",
    "print(f'Kernel=poly, degree : {2} | C : {0.1} | gamma : {\"auto\"}')\n",
    "print(f'Polynomial SVC Scores of Training Data : {polynomial_svc.score(X_train, y_train)}')\n",
    "print(f'Polynomial SVC Scores of Test Data : {polynomial_svc.score(X_test, y_test)}')"
   ]
  },
  {
   "cell_type": "code",
   "execution_count": 18,
   "metadata": {},
   "outputs": [
    {
     "name": "stdout",
     "output_type": "stream",
     "text": [
      "Kernel=RBF,  C : 2.0 | gamma : scale\n",
      "RBF SVC Scores of Training Data : 0.9107981220657277\n",
      "RBF SVC Scores of Test Data : 0.951048951048951\n"
     ]
    }
   ],
   "source": [
    "polynomial_svc = SVC(kernel='poly', C=2.0, gamma='scale')\n",
    "polynomial_svc.fit(X_train, y_train)\n",
    "\n",
    "print(f'Kernel=poly,  C : {2.0} | gamma : {\"scale\"}')\n",
    "print(f'Polynomial SVC Scores of Training Data : {polynomial_svc.score(X_train, y_train)}')\n",
    "print(f'Polynomial SVC Scores of Test Data : {polynomial_svc.score(X_test, y_test)}')"
   ]
  },
  {
   "cell_type": "markdown",
   "metadata": {},
   "source": [
    "##### Data Preprocessing\n",
    "\n",
    "- SVM은 입력 데이터가 **<span style=\"color:pink\">정규화 되어야 좋은 성능을 보임</span>**\n",
    "- 주로 모든 특성값을 [0,1] 범위로 맞추는 방법을 사용함 **<span style=\"color:pink\">(MinMaxScale)</span>**"
   ]
  },
  {
   "cell_type": "code",
   "execution_count": null,
   "metadata": {},
   "outputs": [],
   "source": [
    "X, y = load_breast_cancer()\n",
    "X_train, X_test, y_train, y_test = train_test_split(X, y, random_state=42)"
   ]
  },
  {
   "cell_type": "code",
   "execution_count": null,
   "metadata": {},
   "outputs": [],
   "source": []
  }
 ],
 "metadata": {
  "kernelspec": {
   "display_name": "jjong",
   "language": "python",
   "name": "python3"
  },
  "language_info": {
   "codemirror_mode": {
    "name": "ipython",
    "version": 3
   },
   "file_extension": ".py",
   "mimetype": "text/x-python",
   "name": "python",
   "nbconvert_exporter": "python",
   "pygments_lexer": "ipython3",
   "version": "3.11.5"
  }
 },
 "nbformat": 4,
 "nbformat_minor": 2
}
