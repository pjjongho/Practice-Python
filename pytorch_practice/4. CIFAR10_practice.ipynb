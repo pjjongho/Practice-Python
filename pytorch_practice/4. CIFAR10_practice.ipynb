{
 "cells": [
  {
   "cell_type": "code",
   "execution_count": 1,
   "metadata": {},
   "outputs": [
    {
     "name": "stderr",
     "output_type": "stream",
     "text": [
      "C:\\Users\\jjong\\AppData\\Local\\Temp\\ipykernel_13208\\1568586482.py:13: MatplotlibDeprecationWarning: The seaborn styles shipped by Matplotlib are deprecated since 3.6, as they no longer correspond to the styles shipped by seaborn. However, they will remain available as 'seaborn-v0_8-<style>'. Alternatively, directly use the seaborn API instead.\n",
      "  plt.style.use('seaborn-white')\n"
     ]
    }
   ],
   "source": [
    "import torch\n",
    "import torch.nn as nn\n",
    "import torch.nn.functional as F\n",
    "import torch.optim as optim\n",
    "from torch.utils.data import Dataset, DataLoader\n",
    "\n",
    "import torchvision\n",
    "import torchvision.datasets\n",
    "import torchvision.transforms as transforms\n",
    "\n",
    "import numpy as np\n",
    "import matplotlib.pyplot as plt\n",
    "plt.style.use('seaborn-white')"
   ]
  },
  {
   "cell_type": "code",
   "execution_count": 2,
   "metadata": {},
   "outputs": [],
   "source": [
    "device = torch.device('cuda' if torch.cuda.is_available() else 'cpu')"
   ]
  },
  {
   "cell_type": "markdown",
   "metadata": {},
   "source": [
    "## 전처리 설정"
   ]
  },
  {
   "cell_type": "code",
   "execution_count": 4,
   "metadata": {},
   "outputs": [],
   "source": [
    "transform = transforms.Compose([transforms.ToTensor(),\n",
    "                                transforms.Normalize((0.5,0.5,0.5), (0.5,0.5,0.5))])"
   ]
  },
  {
   "cell_type": "markdown",
   "metadata": {},
   "source": [
    "## 데이터 로드 및 확인"
   ]
  },
  {
   "cell_type": "code",
   "execution_count": 5,
   "metadata": {},
   "outputs": [
    {
     "name": "stdout",
     "output_type": "stream",
     "text": [
      "Downloading https://www.cs.toronto.edu/~kriz/cifar-10-python.tar.gz to ./cifar-10-python.tar.gz\n"
     ]
    },
    {
     "name": "stderr",
     "output_type": "stream",
     "text": [
      "100%|██████████| 170498071/170498071 [00:12<00:00, 14007092.92it/s]\n"
     ]
    },
    {
     "name": "stdout",
     "output_type": "stream",
     "text": [
      "Extracting ./cifar-10-python.tar.gz to ./\n",
      "Files already downloaded and verified\n"
     ]
    }
   ],
   "source": [
    "trainset = torchvision.datasets.CIFAR10(root='./',\n",
    "                                        train=True,\n",
    "                                        download=True,\n",
    "                                        transform=transform)\n",
    "testset = torchvision.datasets.CIFAR10(root='./',\n",
    "                                       train=False,\n",
    "                                       download=True,\n",
    "                                       transform=transform)"
   ]
  },
  {
   "cell_type": "code",
   "execution_count": 6,
   "metadata": {},
   "outputs": [],
   "source": [
    "train_loader = DataLoader(trainset, batch_size=4, shuffle=True, num_workers=2)\n",
    "test_loader = DataLoader(testset, batch_size=4, shuffle=False, num_workers=2)"
   ]
  },
  {
   "cell_type": "code",
   "execution_count": 7,
   "metadata": {},
   "outputs": [],
   "source": [
    "classes = ('plane', 'car', 'bird','cat','deer','dog','frog','horse','ship','truck')"
   ]
  },
  {
   "cell_type": "code",
   "execution_count": 11,
   "metadata": {},
   "outputs": [
    {
     "data": {
      "image/png": "[encoded data removed]",
      "text/plain": [
       "<Figure size 640x480 with 1 Axes>"
      ]
     },
     "metadata": {},
     "output_type": "display_data"
    },
    {
     "name": "stdout",
     "output_type": "stream",
     "text": [
      "\tdeer \tcat \tcar \tship\n"
     ]
    }
   ],
   "source": [
    "def imshow(img):\n",
    "    img = img/2 +0.5\n",
    "    npimg = img.numpy()\n",
    "    plt.imshow(np.transpose(npimg, (1,2,0)))\n",
    "    plt.show()\n",
    "\n",
    "dataiter = iter(train_loader)\n",
    "images, labels = next(dataiter)\n",
    "\n",
    "imshow(torchvision.utils.make_grid(images))\n",
    "print(' '.join('\\t{}'.format(classes[labels[j]]) for j in range(4)))"
   ]
  },
  {
   "cell_type": "markdown",
   "metadata": {},
   "source": [
    "## 신경망 구성"
   ]
  },
  {
   "cell_type": "code",
   "execution_count": 15,
   "metadata": {},
   "outputs": [],
   "source": [
    "class Net(nn.Module):\n",
    "    def __init__(self):\n",
    "        super(Net, self).__init__()\n",
    "\n",
    "        self.conv1 = nn.Conv2d(3,6,5)\n",
    "        self.pool = nn.MaxPool2d(2,2)\n",
    "        self.conv2 = nn.Conv2d(6, 16, 5)\n",
    "        self.fc1 = nn.Linear(16 * 5 * 5, 120)\n",
    "        self.fc2 = nn.Linear(120, 84)\n",
    "        self.fc3 = nn.Linear(84, 10)\n",
    "\n",
    "    def forward(self, x):\n",
    "        x = self.pool(F.relu(self.conv1(x)))\n",
    "        x = self.pool(F.relu(self.conv2(x)))\n",
    "        x = x.view(-1, 16*5*5)\n",
    "        x = F.relu(self.fc1(x))\n",
    "        x = F.relu(self.fc2(x))\n",
    "        x = self.fc3(x)\n",
    "        return x\n",
    "\n",
    "net = Net().to(device)"
   ]
  },
  {
   "cell_type": "markdown",
   "metadata": {},
   "source": [
    "## Loss Function & Optimizer"
   ]
  },
  {
   "cell_type": "code",
   "execution_count": 16,
   "metadata": {},
   "outputs": [],
   "source": [
    "criterion = nn.CrossEntropyLoss()\n",
    "optimizer = optim.SGD(net.parameters(), lr=1e-3, momentum=0.9)"
   ]
  },
  {
   "cell_type": "markdown",
   "metadata": {},
   "source": [
    "## Model Training"
   ]
  },
  {
   "cell_type": "code",
   "execution_count": 19,
   "metadata": {},
   "outputs": [
    {
     "name": "stdout",
     "output_type": "stream",
     "text": [
      "Epoch: 1, Batch: 2000, Loss: 2.2126323110461237\n",
      "Epoch: 1, Batch: 4000, Loss: 1.9032183986008167\n",
      "Epoch: 1, Batch: 6000, Loss: 1.7214328806698322\n",
      "Epoch: 1, Batch: 8000, Loss: 1.603102599710226\n",
      "Epoch: 1, Batch: 10000, Loss: 1.5116849800050258\n",
      "Epoch: 1, Batch: 12000, Loss: 1.5102507106810807\n",
      "Epoch: 2, Batch: 2000, Loss: 1.4048456632718445\n",
      "Epoch: 2, Batch: 4000, Loss: 1.3889402952380479\n",
      "Epoch: 2, Batch: 6000, Loss: 1.3619102285318077\n",
      "Epoch: 2, Batch: 8000, Loss: 1.3342648089006544\n",
      "Epoch: 2, Batch: 10000, Loss: 1.3143005035743118\n",
      "Epoch: 2, Batch: 12000, Loss: 1.3176148549839855\n",
      "Epoch: 3, Batch: 2000, Loss: 1.2296166688967496\n",
      "Epoch: 3, Batch: 4000, Loss: 1.2413886683955788\n",
      "Epoch: 3, Batch: 6000, Loss: 1.207927356503904\n",
      "Epoch: 3, Batch: 8000, Loss: 1.2108106212280692\n",
      "Epoch: 3, Batch: 10000, Loss: 1.2007168639246375\n",
      "Epoch: 3, Batch: 12000, Loss: 1.1662964115059002\n",
      "Epoch: 4, Batch: 2000, Loss: 1.1003553763125091\n",
      "Epoch: 4, Batch: 4000, Loss: 1.1148912817332894\n",
      "Epoch: 4, Batch: 6000, Loss: 1.1298257160950451\n",
      "Epoch: 4, Batch: 8000, Loss: 1.1124995861072093\n",
      "Epoch: 4, Batch: 10000, Loss: 1.1127613333947957\n",
      "Epoch: 4, Batch: 12000, Loss: 1.1036423528613524\n",
      "Epoch: 5, Batch: 2000, Loss: 1.0389427711293102\n",
      "Epoch: 5, Batch: 4000, Loss: 1.050499855492264\n",
      "Epoch: 5, Batch: 6000, Loss: 1.0433230566135607\n",
      "Epoch: 5, Batch: 8000, Loss: 1.045816255629994\n",
      "Epoch: 5, Batch: 10000, Loss: 1.042379069261253\n",
      "Epoch: 5, Batch: 12000, Loss: 1.0405039035277441\n",
      "Epoch: 6, Batch: 2000, Loss: 0.9719858920760452\n",
      "Epoch: 6, Batch: 4000, Loss: 0.9745688014051411\n",
      "Epoch: 6, Batch: 6000, Loss: 1.0034806574378163\n",
      "Epoch: 6, Batch: 8000, Loss: 1.0145977804008872\n",
      "Epoch: 6, Batch: 10000, Loss: 0.9898994725737721\n",
      "Epoch: 6, Batch: 12000, Loss: 1.0074248621738515\n",
      "Epoch: 7, Batch: 2000, Loss: 0.9058799615697936\n",
      "Epoch: 7, Batch: 4000, Loss: 0.9406362521769479\n",
      "Epoch: 7, Batch: 6000, Loss: 0.9635439689726336\n",
      "Epoch: 7, Batch: 8000, Loss: 0.9672341575087048\n",
      "Epoch: 7, Batch: 10000, Loss: 0.9523503901958466\n",
      "Epoch: 7, Batch: 12000, Loss: 0.9449498864125926\n",
      "Epoch: 8, Batch: 2000, Loss: 0.852007687616162\n",
      "Epoch: 8, Batch: 4000, Loss: 0.900775845766766\n",
      "Epoch: 8, Batch: 6000, Loss: 0.90009097172349\n",
      "Epoch: 8, Batch: 8000, Loss: 0.908127501999028\n",
      "Epoch: 8, Batch: 10000, Loss: 0.924585895717144\n",
      "Epoch: 8, Batch: 12000, Loss: 0.9395172068206593\n",
      "Epoch: 9, Batch: 2000, Loss: 0.8418536306563765\n",
      "Epoch: 9, Batch: 4000, Loss: 0.8616828965593595\n",
      "Epoch: 9, Batch: 6000, Loss: 0.8780353644695132\n",
      "Epoch: 9, Batch: 8000, Loss: 0.8677199608820956\n",
      "Epoch: 9, Batch: 10000, Loss: 0.8962242938783019\n",
      "Epoch: 9, Batch: 12000, Loss: 0.892246778272558\n",
      "Epoch: 10, Batch: 2000, Loss: 0.7920287469178293\n",
      "Epoch: 10, Batch: 4000, Loss: 0.823924789004377\n",
      "Epoch: 10, Batch: 6000, Loss: 0.8257424517162144\n",
      "Epoch: 10, Batch: 8000, Loss: 0.861864039957989\n",
      "Epoch: 10, Batch: 10000, Loss: 0.8556950609853957\n",
      "Epoch: 10, Batch: 12000, Loss: 0.8835199736182112\n"
     ]
    }
   ],
   "source": [
    "for epoch in range(10):\n",
    "    running_loss = 0.0\n",
    "\n",
    "    for i, data in enumerate(train_loader, 0):\n",
    "        inputs, labels = data[0].to(device), data[1].to(device)\n",
    "\n",
    "        optimizer.zero_grad()\n",
    "\n",
    "        outputs = net(inputs)\n",
    "        loss = criterion(outputs, labels)\n",
    "        loss.backward()\n",
    "        optimizer.step()\n",
    "\n",
    "        running_loss += loss.item()\n",
    "        if i % 2000 == 1999:\n",
    "            print(\"Epoch: {}, Batch: {}, Loss: {}\".format(epoch+1, i+1, running_loss/2000))\n",
    "            running_loss = 0.0"
   ]
  },
  {
   "cell_type": "markdown",
   "metadata": {},
   "source": [
    "## Model Save & Load"
   ]
  },
  {
   "cell_type": "code",
   "execution_count": 20,
   "metadata": {},
   "outputs": [],
   "source": [
    "path ='./CIFAR_net.pth'\n",
    "torch.save(net.state_dict(), path)"
   ]
  },
  {
   "cell_type": "code",
   "execution_count": 22,
   "metadata": {},
   "outputs": [
    {
     "data": {
      "image/png": "[encoded data removed]",
      "text/plain": [
       "<Figure size 640x480 with 1 Axes>"
      ]
     },
     "metadata": {},
     "output_type": "display_data"
    },
    {
     "name": "stdout",
     "output_type": "stream",
     "text": [
      "\tcat \tship \tship \tplane\n"
     ]
    }
   ],
   "source": [
    "dataiter = iter(test_loader)\n",
    "images, labels = next(dataiter)\n",
    "\n",
    "imshow(torchvision.utils.make_grid(images))\n",
    "print(' '.join('\\t{}'.format(classes[labels[j]]) for j in range(4)))"
   ]
  },
  {
   "cell_type": "code",
   "execution_count": 23,
   "metadata": {},
   "outputs": [
    {
     "data": {
      "text/plain": [
       "<All keys matched successfully>"
      ]
     },
     "execution_count": 23,
     "metadata": {},
     "output_type": "execute_result"
    }
   ],
   "source": [
    "net = Net().to(device)\n",
    "net.load_state_dict(torch.load(path))"
   ]
  },
  {
   "cell_type": "markdown",
   "metadata": {},
   "source": [
    "## Model Test"
   ]
  },
  {
   "cell_type": "code",
   "execution_count": 24,
   "metadata": {},
   "outputs": [],
   "source": [
    "outputs = net(images.to(device))"
   ]
  },
  {
   "cell_type": "code",
   "execution_count": 26,
   "metadata": {},
   "outputs": [
    {
     "name": "stdout",
     "output_type": "stream",
     "text": [
      "\tcat \tship \tship \tship\n"
     ]
    }
   ],
   "source": [
    "_, predicted = torch.max(outputs, 1)\n",
    "print(' '.join('\\t{}'.format(classes[predicted[j]]) for j in range(4)))"
   ]
  },
  {
   "cell_type": "code",
   "execution_count": 27,
   "metadata": {},
   "outputs": [
    {
     "name": "stdout",
     "output_type": "stream",
     "text": [
      "61.57\n"
     ]
    }
   ],
   "source": [
    "correct = 0\n",
    "total = 0\n",
    "\n",
    "with torch.no_grad():\n",
    "    for data in test_loader:\n",
    "        images, labels = data[0].to(device), data[1].to(device)\n",
    "        outputs = net(images)\n",
    "        _, predicted = torch.max(outputs.data,1)\n",
    "        total += labels.size(0)\n",
    "        correct += (predicted == labels).sum().item()\n",
    "\n",
    "print(100 * correct/total)"
   ]
  },
  {
   "cell_type": "code",
   "execution_count": 28,
   "metadata": {},
   "outputs": [
    {
     "name": "stdout",
     "output_type": "stream",
     "text": [
      "Accuracy of plane: 63.5%\n",
      "Accuracy of car: 78.0%\n",
      "Accuracy of bird: 47.7%\n",
      "Accuracy of cat: 56.3%\n",
      "Accuracy of deer: 52.9%\n",
      "Accuracy of dog: 42.3%\n",
      "Accuracy of frog: 61.8%\n",
      "Accuracy of horse: 67.4%\n",
      "Accuracy of ship: 86.4%\n",
      "Accuracy of truck: 59.4%\n"
     ]
    }
   ],
   "source": [
    "class_correct = list(0. for i in range(10))\n",
    "class_total = list(0. for i in range(10))\n",
    "\n",
    "with torch.no_grad():\n",
    "    for data in test_loader:\n",
    "        images, labels = data[0].to(device), data[1].to(device)\n",
    "        outputs = net(images)\n",
    "        _, predicted = torch.max(outputs.data,1)\n",
    "        total += labels.size(0)\n",
    "        correct += (predicted == labels).sum().item()\n",
    "        c = (predicted == labels).squeeze()\n",
    "        for i in range(4):\n",
    "            label = labels[i]\n",
    "            class_correct[label] += c[i].item()\n",
    "            class_total[label] += 1\n",
    "\n",
    "for i in range(10):\n",
    "    print(\"Accuracy of {}: {}%\".format(classes[i], 100*class_correct[i]/class_total[i]))"
   ]
  }
 ],
 "metadata": {
  "kernelspec": {
   "display_name": "jjong",
   "language": "python",
   "name": "python3"
  },
  "language_info": {
   "codemirror_mode": {
    "name": "ipython",
    "version": 3
   },
   "file_extension": ".py",
   "mimetype": "text/x-python",
   "name": "python",
   "nbconvert_exporter": "python",
   "pygments_lexer": "ipython3",
   "version": "3.11.5"
  }
 },
 "nbformat": 4,
 "nbformat_minor": 2
}
